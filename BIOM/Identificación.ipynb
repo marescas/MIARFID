{
 "cells": [
  {
   "cell_type": "code",
   "execution_count": 29,
   "metadata": {},
   "outputs": [],
   "source": [
    "import os, sys\n",
    "from PIL import Image\n",
    "from matplotlib import pyplot as plt\n",
    "import numpy as np\n",
    "from sklearn.neighbors import KNeighborsClassifier\n",
    "from sklearn.decomposition import PCA\n",
    "from sklearn.discriminant_analysis import LinearDiscriminantAnalysis\n",
    "from numpy import linalg as LA\n",
    "import seaborn as sns"
   ]
  },
  {
   "cell_type": "code",
   "execution_count": 2,
   "metadata": {},
   "outputs": [],
   "source": [
    "dirpathTrain= \"IDENTIFICACION/ORLProcessed/train\"\n",
    "dirpathTest= \"IDENTIFICACION/ORLProcessed/test\""
   ]
  },
  {
   "cell_type": "markdown",
   "metadata": {},
   "source": [
    "# Procesado de datos"
   ]
  },
  {
   "cell_type": "code",
   "execution_count": 3,
   "metadata": {},
   "outputs": [],
   "source": [
    "def readpgm(name):\n",
    "    with open(name) as f:\n",
    "        lines = f.readlines()\n",
    "\n",
    "    # Ignores commented lines\n",
    "    for l in list(lines):\n",
    "        if l[0] == '#':\n",
    "            lines.remove(l)\n",
    "\n",
    "    # Makes sure it is ASCII format (P2)\n",
    "    assert lines[0].strip() == 'P2' \n",
    "\n",
    "    # Converts data to a list of integers\n",
    "    data = []\n",
    "    for line in lines[1:]:\n",
    "        data.extend([int(c) for c in line.split()])\n",
    "\n",
    "    return (np.array(data[3:]),(data[1],data[0]),data[2])"
   ]
  },
  {
   "cell_type": "code",
   "execution_count": 4,
   "metadata": {},
   "outputs": [],
   "source": [
    "def getDataSetArray(dirpath):\n",
    "    images = []\n",
    "    labels = []\n",
    "    for usuarioSistema in os.listdir(dirpath):\n",
    "        try:\n",
    "            folderPath = os.path.join(dirpath,usuarioSistema)\n",
    "            for file in os.listdir(folderPath):\n",
    "                filePath = os.path.join(folderPath,file)\n",
    "                data = readpgm(filePath)\n",
    "                images.append(data[0])\n",
    "                tamañoImagen = data[1]\n",
    "                labels.append(usuarioSistema)\n",
    "        except:\n",
    "            print(\"Error de lectura %s\" % usuarioSistema)\n",
    "    print(\"Imagenes procesadas %d total de individuos %d tamañoImagen %s \" %(len(images),len(set(labels)),tamañoImagen))\n",
    "    return np.matrix(images),labels\n"
   ]
  },
  {
   "cell_type": "code",
   "execution_count": 5,
   "metadata": {},
   "outputs": [
    {
     "name": "stdout",
     "output_type": "stream",
     "text": [
      "Error de lectura .DS_Store\n",
      "Imagenes procesadas 200 total de individuos 40 tamañoImagen (112, 92) \n",
      "Error de lectura .DS_Store\n",
      "Imagenes procesadas 200 total de individuos 40 tamañoImagen (112, 92) \n"
     ]
    }
   ],
   "source": [
    "imagesTrain,labelsTrain = getDataSetArray(dirpathTrain)\n",
    "imagesTest,labelsTest = getDataSetArray(dirpathTest)"
   ]
  },
  {
   "cell_type": "markdown",
   "metadata": {},
   "source": [
    "# PCA SKLEARN"
   ]
  },
  {
   "cell_type": "code",
   "execution_count": 33,
   "metadata": {},
   "outputs": [],
   "source": [
    "results =[]\n",
    "for pcaComponentes in range(1,200,2):\n",
    "    pca = PCA(n_components=pcaComponentes)\n",
    "    newsImagesToTrain = pca.fit_transform(imagesTrain)\n",
    "    newsImagesToTest = pca.transform(imagesTest)\n",
    "    clf = KNeighborsClassifier(n_neighbors=1)\n",
    "    clf.fit(newsImagesToTrain,labelsTrain)\n",
    "    results.append(clf.score(newsImagesToTest,labelsTest))"
   ]
  },
  {
   "cell_type": "code",
   "execution_count": 40,
   "metadata": {},
   "outputs": [
    {
     "data": {
      "text/plain": [
       "Text(0, 0.5, 'accuracy')"
      ]
     },
     "execution_count": 40,
     "metadata": {},
     "output_type": "execute_result"
    },
    {
     "data": {
      "image/png": "[encoded data removed]",
      "text/plain": [
       "<Figure size 432x288 with 1 Axes>"
      ]
     },
     "metadata": {
      "needs_background": "light"
     },
     "output_type": "display_data"
    }
   ],
   "source": [
    "plt.plot(list(range(1,200,2)),results)\n",
    "plt.xlabel(\"dimensiones\")\n",
    "plt.ylabel(\"accuracy\")"
   ]
  },
  {
   "cell_type": "code",
   "execution_count": 8,
   "metadata": {
    "scrolled": true
   },
   "outputs": [
    {
     "name": "stdout",
     "output_type": "stream",
     "text": [
      "el mejor resultado obtenido con 91 dimensiones es 0.905\n"
     ]
    }
   ],
   "source": [
    "mejorResultado = max(enumerate(results),key = lambda t:t[1])\n",
    "print(\"el mejor resultado obtenido con %d dimensiones es %.3f\" %(mejorResultado))"
   ]
  },
  {
   "cell_type": "markdown",
   "metadata": {},
   "source": [
    "# PCA"
   ]
  },
  {
   "cell_type": "code",
   "execution_count": 12,
   "metadata": {},
   "outputs": [],
   "source": [
    "def calculaPCA(matrix):\n",
    "    #La matriz entra como nºmuestras * nº dimensiones\n",
    "    matrix = matrix.T\n",
    "    print(\"data matrix %s \" %str(matrix.shape))\n",
    "    d = matrix.shape[0]\n",
    "    n = matrix.shape[1]\n",
    "    print(\"d: %d n: %d\" %(d,n))\n",
    "    media = matrix.mean(axis=1)\n",
    "    print(\"media %d \" % media.shape[0])\n",
    "    A = matrix-media\n",
    "    print(\"A %s\" % str(A.shape))\n",
    "    C = 1/float(d) * A.T *A\n",
    "    print(\"C %s\" %str(C.shape))\n",
    "    DeltaP, Bp = LA.eig(C)\n",
    "    B = A * Bp \n",
    "    print(\"B %s\" %str(B.shape))\n",
    "    Delta = d / float(n) * DeltaP\n",
    "    eigenValuesOrdered = sorted(list(enumerate(Delta)),key = lambda t: t[1], reverse=True)\n",
    "    idx = list(map(lambda t : t[0], eigenValuesOrdered))\n",
    "    B = B[:,idx]\n",
    "    return B/LA.norm(B,axis=0)\n",
    "    "
   ]
  },
  {
   "cell_type": "code",
   "execution_count": 13,
   "metadata": {},
   "outputs": [
    {
     "name": "stdout",
     "output_type": "stream",
     "text": [
      "data matrix (10304, 200) \n",
      "d: 10304 n: 200\n",
      "media 10304 \n",
      "A (10304, 200)\n",
      "C (200, 200)\n",
      "B (10304, 200)\n"
     ]
    }
   ],
   "source": [
    "pcaMatrix = calculaPCA(imagesTrain)"
   ]
  },
  {
   "cell_type": "code",
   "execution_count": 14,
   "metadata": {},
   "outputs": [
    {
     "data": {
      "text/plain": [
       "<matplotlib.image.AxesImage at 0x11089b630>"
      ]
     },
     "execution_count": 14,
     "metadata": {},
     "output_type": "execute_result"
    },
    {
     "data": {
      "image/png": "[encoded data removed]",
      "text/plain": [
       "<Figure size 432x288 with 1 Axes>"
      ]
     },
     "metadata": {
      "needs_background": "light"
     },
     "output_type": "display_data"
    }
   ],
   "source": [
    "plt.imshow(np.reshape(pcaMatrix[:,0],(112,92)))"
   ]
  },
  {
   "cell_type": "code",
   "execution_count": 15,
   "metadata": {},
   "outputs": [],
   "source": [
    "def transformaDatos(datos,PCAmatrix,ndimensiones):\n",
    "    misVectores = PCAmatrix[:,1:ndimensiones+1]\n",
    "    media = datos.mean(axis=0)\n",
    "    imagenesResultantes = (datos-media)*misVectores\n",
    "    \n",
    "    return imagenesResultantes"
   ]
  },
  {
   "cell_type": "code",
   "execution_count": 43,
   "metadata": {},
   "outputs": [],
   "source": [
    "trainReducidas = transformaDatos(imagesTrain,pcaMatrix,91)\n",
    "testReducidas = transformaDatos(imagesTest,pcaMatrix,91)"
   ]
  },
  {
   "cell_type": "code",
   "execution_count": 44,
   "metadata": {},
   "outputs": [
    {
     "data": {
      "text/plain": [
       "0.885"
      ]
     },
     "execution_count": 44,
     "metadata": {},
     "output_type": "execute_result"
    }
   ],
   "source": [
    "clf = KNeighborsClassifier(n_neighbors=1)\n",
    "clf.fit(trainReducidas,labelsTrain)\n",
    "clf.score(testReducidas,labelsTest)"
   ]
  },
  {
   "cell_type": "code",
   "execution_count": 18,
   "metadata": {},
   "outputs": [
    {
     "name": "stdout",
     "output_type": "stream",
     "text": [
      "data matrix (10304, 200) \n",
      "d: 10304 n: 200\n",
      "media 10304 \n",
      "A (10304, 200)\n",
      "C (200, 200)\n",
      "B (10304, 200)\n"
     ]
    }
   ],
   "source": [
    "values = []\n",
    "pcaMatrix = calculaPCA(imagesTrain)\n",
    "for dim in range(1,200,1):\n",
    "    trainReducidas = transformaDatos(imagesTrain,pcaMatrix,dim)\n",
    "    testReducidas = transformaDatos(imagesTest,pcaMatrix,dim)\n",
    "    clf = KNeighborsClassifier(n_neighbors=1)\n",
    "    clf.fit(trainReducidas,labelsTrain)\n",
    "    values.append(clf.score(testReducidas,labelsTest))"
   ]
  },
  {
   "cell_type": "code",
   "execution_count": 19,
   "metadata": {},
   "outputs": [
    {
     "data": {
      "text/plain": [
       "[<matplotlib.lines.Line2D at 0x1a230b1128>]"
      ]
     },
     "execution_count": 19,
     "metadata": {},
     "output_type": "execute_result"
    },
    {
     "data": {
      "image/png": "[encoded data removed]",
      "text/plain": [
       "<Figure size 432x288 with 1 Axes>"
      ]
     },
     "metadata": {
      "needs_background": "light"
     },
     "output_type": "display_data"
    }
   ],
   "source": [
    "plt.plot(list(range(1,200)),values)"
   ]
  },
  {
   "cell_type": "markdown",
   "metadata": {},
   "source": [
    "# LDA\n"
   ]
  },
  {
   "cell_type": "code",
   "execution_count": 75,
   "metadata": {},
   "outputs": [],
   "source": [
    "import scipy.linalg as scipylg\n",
    "def calculaLDA(matrix,etiquetas):\n",
    "    \n",
    "    print(\"shape data \",matrix.shape)\n",
    "    mu = matrix.mean(axis = 1)\n",
    "    print(\"shape mu \",mu.shape)\n",
    "    sb = np.zeros((matrix.shape[0],matrix.shape[0]))\n",
    "    sw = sb.copy()\n",
    "    print(\"sb shape\", sb.shape)\n",
    "    for etiqueta in set(etiquetas):\n",
    "        labels = np.where(etiquetas == etiqueta)\n",
    "        matrix_class = matrix[:,labels[0]]\n",
    "        mu_class = matrix_class.mean(axis = 1)\n",
    "        #print(\"shape mu_class \",mu.shape)\n",
    "        samples_class = matrix_class.shape[1]\n",
    "        sb += samples_class * (mu_class -mu) *(mu_class-mu).T\n",
    "        sw += (matrix_class-mu_class) * (matrix_class-mu_class).T\n",
    "    print(\"generalized eigen vectors\")\n",
    "    Delta, B = scipylg.eig(sb, sw)\n",
    "    eigenValuesOrdered = sorted(list(enumerate(Delta)),key = lambda t: t[1], reverse=True)\n",
    "    idx = list(map(lambda t : t[0], eigenValuesOrdered))\n",
    "    B = B[:,idx]\n",
    "    return B"
   ]
  },
  {
   "cell_type": "code",
   "execution_count": 76,
   "metadata": {},
   "outputs": [],
   "source": [
    "trainReducidas = transformaDatos(imagesTrain,pcaMatrix,200)\n",
    "testReducidas = transformaDatos(imagesTest,pcaMatrix,200)"
   ]
  },
  {
   "cell_type": "code",
   "execution_count": 77,
   "metadata": {
    "scrolled": true
   },
   "outputs": [
    {
     "name": "stdout",
     "output_type": "stream",
     "text": [
      "shape data  (199, 200)\n",
      "shape mu  (199, 1)\n",
      "sb shape (199, 199)\n",
      "generalized eigen vectors\n"
     ]
    }
   ],
   "source": [
    "matrixLDA = calculaLDA(trainReducidas.T,np.array(labelsTrain))"
   ]
  },
  {
   "cell_type": "code",
   "execution_count": 72,
   "metadata": {},
   "outputs": [],
   "source": [
    "def transformaDatos(datos,matrix,ndimensiones):\n",
    "    misVectores = matrix[:,1:ndimensiones+1]\n",
    "    media = datos.mean(axis=0)\n",
    "    imagenesResultantes = (datos)*misVectores\n",
    "    \n",
    "    return imagenesResultantes"
   ]
  },
  {
   "cell_type": "code",
   "execution_count": 74,
   "metadata": {},
   "outputs": [
    {
     "name": "stdout",
     "output_type": "stream",
     "text": [
      "(32, 0.855)\n"
     ]
    }
   ],
   "source": [
    "values = []\n",
    "for dimensiones in range(1,39):\n",
    "    trainReducidas2 = transformaDatos(trainReducidas,matrixLDA,dimensiones)\n",
    "    testReducidas2 = transformaDatos(testReducidas,matrixLDA,dimensiones)\n",
    "    clf = KNeighborsClassifier(n_neighbors=1)\n",
    "    clf.fit(trainReducidas2,labelsTrain)\n",
    "    values.append(clf.score(testReducidas2,labelsTest))\n",
    "print(max(enumerate(values),key=lambda t:t[1]))"
   ]
  },
  {
   "cell_type": "code",
   "execution_count": 69,
   "metadata": {},
   "outputs": [
    {
     "data": {
      "text/plain": [
       "Text(0, 0.5, 'accuracy')"
      ]
     },
     "execution_count": 69,
     "metadata": {},
     "output_type": "execute_result"
    },
    {
     "data": {
      "image/png": "[encoded data removed]",
      "text/plain": [
       "<Figure size 432x288 with 1 Axes>"
      ]
     },
     "metadata": {
      "needs_background": "light"
     },
     "output_type": "display_data"
    }
   ],
   "source": [
    "plt.plot(list(range(1,39,1)),values)\n",
    "plt.xlabel(\"dimensiones\")\n",
    "plt.ylabel(\"accuracy\")"
   ]
  },
  {
   "cell_type": "code",
   "execution_count": null,
   "metadata": {},
   "outputs": [],
   "source": []
  }
 ],
 "metadata": {
  "kernelspec": {
   "display_name": "Python 3",
   "language": "python",
   "name": "python3"
  },
  "language_info": {
   "codemirror_mode": {
    "name": "ipython",
    "version": 3
   },
   "file_extension": ".py",
   "mimetype": "text/x-python",
   "name": "python",
   "nbconvert_exporter": "python",
   "pygments_lexer": "ipython3",
   "version": "3.7.3"
  }
 },
 "nbformat": 4,
 "nbformat_minor": 2
}
