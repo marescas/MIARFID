{
 "cells": [
  {
   "cell_type": "code",
   "execution_count": 1,
   "metadata": {},
   "outputs": [],
   "source": [
    "import nltk\n",
    "#nltk.download('cess_esp')\n",
    "from nltk.corpus import cess_esp\n",
    "#from sklearn.model_selection import train_test_split\n",
    "from nltk.tag import UnigramTagger,BigramTagger,hmm, tnt\n",
    "from math import sqrt"
   ]
  },
  {
   "cell_type": "code",
   "execution_count": 2,
   "metadata": {},
   "outputs": [],
   "source": [
    "corpus_data = cess_esp.tagged_sents()"
   ]
  },
  {
   "cell_type": "code",
   "execution_count": 3,
   "metadata": {},
   "outputs": [],
   "source": [
    "res = []\n",
    "for oracion in corpus_data:\n",
    "    aux = []\n",
    "    for palabra,categoria in oracion:\n",
    "        if palabra !=\"*0*\":\n",
    "            aux.append((palabra,categoria[0:3]) if categoria[0] == \"v\" or categoria[0] == \"F\" else (palabra,categoria[0:2]))\n",
    "    res.append(aux)"
   ]
  },
  {
   "cell_type": "code",
   "execution_count": 4,
   "metadata": {},
   "outputs": [
    {
     "data": {
      "text/plain": [
       "True"
      ]
     },
     "execution_count": 4,
     "metadata": {},
     "output_type": "execute_result"
    }
   ],
   "source": [
    "len(res) == len(corpus_data)"
   ]
  },
  {
   "cell_type": "code",
   "execution_count": 5,
   "metadata": {},
   "outputs": [],
   "source": [
    "lenCorpusTok = len(res)\n",
    "train=res[:9*lenCorpusTok//10]\n",
    "test=res[9*lenCorpusTok//10:]"
   ]
  },
  {
   "cell_type": "markdown",
   "metadata": {},
   "source": [
    "\n",
    "Modelo de unigramas:"
   ]
  },
  {
   "cell_type": "code",
   "execution_count": 6,
   "metadata": {},
   "outputs": [],
   "source": [
    "tagger_unigramas = UnigramTagger(train) #Entrenamos el modelo de unigramas"
   ]
  },
  {
   "cell_type": "code",
   "execution_count": 7,
   "metadata": {},
   "outputs": [
    {
     "name": "stdout",
     "output_type": "stream",
     "text": [
      "['Y', 'al_final', 'le', 'pedía', 'que', 'colabore', 'conmigo', 'en', 'la', 'campaña', 'electoral', 'vasca', '-', '.']\n",
      "Y | cc\n",
      "al_final | rg\n",
      "le | pp\n",
      "pedía | vmi\n",
      "que | pr\n",
      "colabore | None\n",
      "conmigo | None\n",
      "en | sp\n",
      "la | da\n",
      "campaña | nc\n",
      "electoral | aq\n",
      "vasca | aq\n",
      "- | Fg\n",
      ". | Fp\n"
     ]
    }
   ],
   "source": [
    "#Etiquetamos una oración\n",
    "palabras = [w for w,c in test[0]]\n",
    "print(palabras)\n",
    "prediccion = tagger_unigramas.tag(palabras) #Generamos una predicción\n",
    "for palabra,categoria in prediccion:\n",
    "    print(\"%s | %s\" %(palabra,categoria))"
   ]
  },
  {
   "cell_type": "code",
   "execution_count": 8,
   "metadata": {},
   "outputs": [
    {
     "data": {
      "text/plain": [
       "0.8054935238945958"
      ]
     },
     "execution_count": 8,
     "metadata": {},
     "output_type": "execute_result"
    }
   ],
   "source": [
    "#Evaluamos las prestaciones\n",
    "tagger_unigramas.evaluate(test)"
   ]
  },
  {
   "cell_type": "markdown",
   "metadata": {},
   "source": [
    "Modelo de Bigramas sin suavizado"
   ]
  },
  {
   "cell_type": "code",
   "execution_count": 9,
   "metadata": {},
   "outputs": [
    {
     "data": {
      "text/plain": [
       "0.11820753312490695"
      ]
     },
     "execution_count": 9,
     "metadata": {},
     "output_type": "execute_result"
    }
   ],
   "source": [
    "tagger_bigramas = BigramTagger(train)\n",
    "tagger_bigramas.evaluate(test)\n",
    "#Al no existir suavizado el modelo no es capaz de generalizar adecuadamente\n",
    "#por lo que no se consiguen buenas predicciones"
   ]
  },
  {
   "cell_type": "markdown",
   "metadata": {},
   "source": [
    "Modelo de Bigramas con suavizado"
   ]
  },
  {
   "cell_type": "code",
   "execution_count": 10,
   "metadata": {},
   "outputs": [
    {
     "data": {
      "text/plain": [
       "0.8188179246687509"
      ]
     },
     "execution_count": 10,
     "metadata": {},
     "output_type": "execute_result"
    }
   ],
   "source": [
    "tagger_bigramas = BigramTagger(train,backoff=tagger_unigramas)\n",
    "tagger_bigramas.evaluate(test)\n",
    "#El suavizado permite mejores generalizaciones por parte del modelo"
   ]
  },
  {
   "cell_type": "markdown",
   "metadata": {},
   "source": [
    "# HMM"
   ]
  },
  {
   "cell_type": "code",
   "execution_count": 11,
   "metadata": {},
   "outputs": [],
   "source": [
    "#Entrenamos el modelo\n",
    "tagger_hmm = hmm.HiddenMarkovModelTagger.train(train)"
   ]
  },
  {
   "cell_type": "code",
   "execution_count": 12,
   "metadata": {},
   "outputs": [
    {
     "name": "stdout",
     "output_type": "stream",
     "text": [
      "['Y', 'al_final', 'le', 'pedía', 'que', 'colabore', 'conmigo', 'en', 'la', 'campaña', 'electoral', 'vasca', '-', '.']\n",
      "Y | cc\n",
      "al_final | rg\n",
      "le | pp\n",
      "pedía | vmi\n",
      "que | cs\n",
      "colabore | vai\n",
      "conmigo | vmp\n",
      "en | sp\n",
      "la | da\n",
      "campaña | nc\n",
      "electoral | aq\n",
      "vasca | aq\n",
      "- | Fg\n",
      ". | Fp\n"
     ]
    }
   ],
   "source": [
    "#Prediccion para una oración\n",
    "palabras = [w for w,c in test[0]]\n",
    "print(palabras)\n",
    "prediccion = tagger_hmm.tag(palabras) #Generamos una predicción\n",
    "for palabra,categoria in prediccion:\n",
    "    print(\"%s | %s\" %(palabra,categoria))"
   ]
  },
  {
   "cell_type": "code",
   "execution_count": 13,
   "metadata": {},
   "outputs": [
    {
     "data": {
      "text/plain": [
       "0.8784427571832664"
      ]
     },
     "execution_count": 13,
     "metadata": {},
     "output_type": "execute_result"
    }
   ],
   "source": [
    "#Evaluamos el modelo basado en Hidden Markov Models\n",
    "tagger_hmm.evaluate(test)"
   ]
  },
  {
   "cell_type": "markdown",
   "metadata": {},
   "source": [
    "# TNT"
   ]
  },
  {
   "cell_type": "code",
   "execution_count": 14,
   "metadata": {},
   "outputs": [],
   "source": [
    "#Entrenamos el modelo\n",
    "tagger_TNT = tnt.TnT()\n",
    "tagger_TNT.train(train)"
   ]
  },
  {
   "cell_type": "code",
   "execution_count": 15,
   "metadata": {},
   "outputs": [
    {
     "name": "stdout",
     "output_type": "stream",
     "text": [
      "['Y', 'al_final', 'le', 'pedía', 'que', 'colabore', 'conmigo', 'en', 'la', 'campaña', 'electoral', 'vasca', '-', '.']\n",
      "Y | cc\n",
      "al_final | rg\n",
      "le | pp\n",
      "pedía | vmi\n",
      "que | cs\n",
      "colabore | Unk\n",
      "conmigo | Unk\n",
      "en | sp\n",
      "la | da\n",
      "campaña | nc\n",
      "electoral | aq\n",
      "vasca | aq\n",
      "- | Fg\n",
      ". | Fp\n"
     ]
    }
   ],
   "source": [
    "#Prediccion para una frase\n",
    "palabras = [w for w,c in test[0]]\n",
    "print(palabras)\n",
    "prediccion = tagger_TNT.tag(palabras) #Generamos una predicción\n",
    "for palabra,categoria in prediccion:\n",
    "    print(\"%s | %s\" %(palabra,categoria))"
   ]
  },
  {
   "cell_type": "code",
   "execution_count": 16,
   "metadata": {},
   "outputs": [
    {
     "data": {
      "text/plain": [
       "0.8255173440524044"
      ]
     },
     "execution_count": 16,
     "metadata": {},
     "output_type": "execute_result"
    }
   ],
   "source": [
    "#Evaluamos el modelo\n",
    "tagger_TNT.evaluate(test)"
   ]
  },
  {
   "cell_type": "markdown",
   "metadata": {},
   "source": [
    "# Cross Validation sin barajar\n"
   ]
  },
  {
   "cell_type": "code",
   "execution_count": 17,
   "metadata": {},
   "outputs": [],
   "source": [
    "\n",
    "k = 10\n",
    "tamañoParticion = int(len(res)/k)\n",
    "particiones = [res[i*tamañoParticion :i*tamañoParticion +tamañoParticion] for i in range(k)]"
   ]
  },
  {
   "cell_type": "code",
   "execution_count": 18,
   "metadata": {},
   "outputs": [],
   "source": [
    "def cross_validation(clasificador,k,datosParticionados):\n",
    "    precisiones = []\n",
    "    for i in range(k):\n",
    "        train = datosParticionados.copy()\n",
    "        test = train[i]\n",
    "        del train[i]\n",
    "        train = [val for sublist in train for val in sublist]#Aplano las listas de listas de listas\n",
    "        tagger = clasificador.train(train[0:-1])\n",
    "        precisiones.append(tagger.evaluate(test))\n",
    "    return precisiones"
   ]
  },
  {
   "cell_type": "code",
   "execution_count": 19,
   "metadata": {},
   "outputs": [
    {
     "data": {
      "text/plain": [
       "[0.9284063638787663,\n",
       " 0.9238470598894627,\n",
       " 0.9228301472203911,\n",
       " 0.9251021133013674,\n",
       " 0.9228631913204551,\n",
       " 0.8781806196440343,\n",
       " 0.8878207393793737,\n",
       " 0.8914285714285715,\n",
       " 0.8912859560067682,\n",
       " 0.8784427571832664]"
      ]
     },
     "execution_count": 19,
     "metadata": {},
     "output_type": "execute_result"
    }
   ],
   "source": [
    "precisiones_HMM_no_barajo = cross_validation(hmm.HiddenMarkovModelTagger,10,particiones)\n",
    "precisiones_HMM_no_barajo"
   ]
  },
  {
   "cell_type": "code",
   "execution_count": 20,
   "metadata": {},
   "outputs": [],
   "source": [
    "precisiones_TNT_no_barajo = []\n",
    "for i in range(k):\n",
    "    train = particiones.copy()\n",
    "    test = train[i]\n",
    "    del train[i]\n",
    "    tagger_TNT = tnt.TnT()\n",
    "    train = [val for sublist in train for val in sublist] #aplanamos la lista\n",
    "    tagger = tagger_TNT.train(train[0:-1])\n",
    "    precisiones_TNT_no_barajo.append(tagger_TNT.evaluate(test))"
   ]
  },
  {
   "cell_type": "code",
   "execution_count": 21,
   "metadata": {},
   "outputs": [
    {
     "data": {
      "text/plain": [
       "[0.8963203270820371,\n",
       " 0.8886019751744133,\n",
       " 0.8865304328718963,\n",
       " 0.889540046172971,\n",
       " 0.8927846873070477,\n",
       " 0.838892551087673,\n",
       " 0.8582738389764615,\n",
       " 0.850780559646539,\n",
       " 0.8591370558375635,\n",
       " 0.8255173440524044]"
      ]
     },
     "execution_count": 21,
     "metadata": {},
     "output_type": "execute_result"
    }
   ],
   "source": [
    "precisiones_TNT_no_barajo"
   ]
  },
  {
   "cell_type": "markdown",
   "metadata": {},
   "source": [
    "# Cross validation barajando"
   ]
  },
  {
   "cell_type": "code",
   "execution_count": 22,
   "metadata": {},
   "outputs": [],
   "source": [
    "from random import shuffle"
   ]
  },
  {
   "cell_type": "code",
   "execution_count": 23,
   "metadata": {},
   "outputs": [],
   "source": [
    "datos_barajados = shuffle(res)"
   ]
  },
  {
   "cell_type": "code",
   "execution_count": 24,
   "metadata": {},
   "outputs": [],
   "source": [
    "k = 10\n",
    "tamañoParticion = int(len(res)/k)\n",
    "particiones = [res[i*tamañoParticion :i*tamañoParticion +tamañoParticion] for i in range(k)]"
   ]
  },
  {
   "cell_type": "code",
   "execution_count": 25,
   "metadata": {},
   "outputs": [],
   "source": [
    "precisiones_HMM_barajo = cross_validation(hmm.HiddenMarkovModelTagger,10,particiones)\n"
   ]
  },
  {
   "cell_type": "code",
   "execution_count": 26,
   "metadata": {},
   "outputs": [],
   "source": [
    "precisiones_TNT_barajo = []\n",
    "for i in range(k):\n",
    "    train = particiones.copy()\n",
    "    test = train[i]\n",
    "    del train[i]\n",
    "    tagger_TNT = tnt.TnT()\n",
    "    train = [val for sublist in train for val in sublist] #aplanamos la lista\n",
    "    tagger = tagger_TNT.train(train[0:-1])\n",
    "    precisiones_TNT_barajo.append(tagger_TNT.evaluate(test))"
   ]
  },
  {
   "cell_type": "code",
   "execution_count": 27,
   "metadata": {},
   "outputs": [
    {
     "data": {
      "text/plain": [
       "[0.9292374913411839,\n",
       " 0.9265448683503493,\n",
       " 0.9286820105274022,\n",
       " 0.9258635644675749,\n",
       " 0.9259435962680237,\n",
       " 0.9259377664109122,\n",
       " 0.9249826842133305,\n",
       " 0.9238984597219986,\n",
       " 0.9233354673495519,\n",
       " 0.9229286058593541]"
      ]
     },
     "execution_count": 27,
     "metadata": {},
     "output_type": "execute_result"
    }
   ],
   "source": [
    "precisiones_HMM_barajo"
   ]
  },
  {
   "cell_type": "code",
   "execution_count": 28,
   "metadata": {},
   "outputs": [
    {
     "data": {
      "text/plain": [
       "[0.9044599563062823,\n",
       " 0.9012358946802794,\n",
       " 0.9073175766332955,\n",
       " 0.8992805755395683,\n",
       " 0.9010814249363868,\n",
       " 0.9019075021312873,\n",
       " 0.9013799349992008,\n",
       " 0.8977083668759728,\n",
       " 0.9004481434058899,\n",
       " 0.8993626479567244]"
      ]
     },
     "execution_count": 28,
     "metadata": {},
     "output_type": "execute_result"
    }
   ],
   "source": [
    "precisiones_TNT_barajo"
   ]
  },
  {
   "cell_type": "code",
   "execution_count": 29,
   "metadata": {},
   "outputs": [],
   "source": [
    "def scuadrado(values):\n",
    "    media = sum(values)/len(values)\n",
    "    scuadrado = sum([(value-media)**2 for value in values]) / len(values)\n",
    "    res = \"[%.4f, %.4f]\" %(media-scuadrado,media+scuadrado)\n",
    "    return res"
   ]
  },
  {
   "cell_type": "code",
   "execution_count": 30,
   "metadata": {},
   "outputs": [],
   "source": [
    "def accuracy95(p,ndatos):\n",
    "    return 1.95*sqrt(p*(1-p) /ndatos)"
   ]
  },
  {
   "cell_type": "code",
   "execution_count": 31,
   "metadata": {},
   "outputs": [
    {
     "data": {
      "text/plain": [
       "<Figure size 640x480 with 1 Axes>"
      ]
     },
     "metadata": {},
     "output_type": "display_data"
    }
   ],
   "source": [
    "import matplotlib.pyplot as plt\n",
    "x=[i for i in range(10)]\n",
    "results=precisiones_HMM_no_barajo\n",
    "y=results # results es una lista con los resultados de cada experimento\n",
    "plt.axis([-1, 10, 0.80, 0.97])\n",
    "plt.ylabel('Accuracy')\n",
    "plt.xlabel('Fold')\n",
    "plt.title('Ten-fold cross validation HMM')\n",
    "plt.plot(x,y,'ro')\n",
    "Tic=[accuracy95(p,len(res)//k) for p in results]# Lista con los intervalos de confianza\n",
    "plt.errorbar(x,y,yerr=Tic,linestyle='None')\n",
    "plt.show()"
   ]
  },
  {
   "cell_type": "code",
   "execution_count": 32,
   "metadata": {},
   "outputs": [
    {
     "data": {
      "image/png": "[encoded data removed]",
      "text/plain": [
       "<Figure size 432x288 with 1 Axes>"
      ]
     },
     "metadata": {
      "needs_background": "light"
     },
     "output_type": "display_data"
    }
   ],
   "source": [
    "import matplotlib.pyplot as plt\n",
    "x=[i for i in range(10)]\n",
    "results=precisiones_TNT_no_barajo\n",
    "y=results # results es una lista con los resultados de cada experimento\n",
    "plt.axis([-1, 10, 0.80, 0.97])\n",
    "plt.ylabel('Accuracy')\n",
    "plt.xlabel('Fold')\n",
    "plt.title('Ten-fold cross validation TNT')\n",
    "plt.plot(x,y,'ro')\n",
    "Tic=[accuracy95(p,len(res)//k) for p in results]# Lista con los intervalos de confianza\n",
    "plt.errorbar(x,y,yerr=Tic,linestyle='None')\n",
    "plt.show()"
   ]
  },
  {
   "cell_type": "code",
   "execution_count": 33,
   "metadata": {},
   "outputs": [
    {
     "data": {
      "image/png": "[encoded data removed]",
      "text/plain": [
       "<Figure size 432x288 with 1 Axes>"
      ]
     },
     "metadata": {
      "needs_background": "light"
     },
     "output_type": "display_data"
    }
   ],
   "source": [
    "import matplotlib.pyplot as plt\n",
    "x=[i for i in range(10)]\n",
    "results=precisiones_HMM_barajo\n",
    "y=results # results es una lista con los resultados de cada experimento\n",
    "plt.axis([-1, 10, 0.80, 0.97])\n",
    "plt.ylabel('Accuracy')\n",
    "plt.xlabel('Fold')\n",
    "plt.title('Ten-fold cross validation HMM shuffle')\n",
    "plt.plot(x,y,'ro')\n",
    "Tic=[accuracy95(p,len(res)//k) for p in results]# Lista con los intervalos de confianza\n",
    "plt.errorbar(x,y,yerr=Tic,linestyle='None')\n",
    "plt.show()"
   ]
  },
  {
   "cell_type": "code",
   "execution_count": 34,
   "metadata": {},
   "outputs": [
    {
     "data": {
      "image/png": "[encoded data removed]",
      "text/plain": [
       "<Figure size 432x288 with 1 Axes>"
      ]
     },
     "metadata": {
      "needs_background": "light"
     },
     "output_type": "display_data"
    }
   ],
   "source": [
    "import matplotlib.pyplot as plt\n",
    "x=[i for i in range(10)]\n",
    "results=precisiones_TNT_barajo\n",
    "y=results # results es una lista con los resultados de cada experimento\n",
    "plt.axis([-1, 10, 0.80, 0.94])\n",
    "plt.ylabel('Accuracy')\n",
    "plt.xlabel('Fold')\n",
    "plt.title('Ten-fold cross validation TNT shuffle')\n",
    "plt.plot(x,y,'ro')\n",
    "Tic=[accuracy95(p,len(res)//k) for p in results]# Lista con los intervalos de confianza\n",
    "plt.errorbar(x,y,yerr=Tic,linestyle='None')\n",
    "plt.show()"
   ]
  },
  {
   "cell_type": "code",
   "execution_count": 35,
   "metadata": {},
   "outputs": [
    {
     "name": "stdout",
     "output_type": "stream",
     "text": [
      "Cross validation HMM [0.9046, 0.9054]\n",
      "Cross validation TNT [0.8681, 0.8692]\n",
      "Cross validation HMM with shuffle [0.9257, 0.9257]\n",
      "Cross validation TNT with shuffle [0.9014, 0.9014]\n"
     ]
    }
   ],
   "source": [
    "print(\"Cross validation HMM %s\" %(scuadrado(precisiones_HMM_no_barajo)) )\n",
    "print(\"Cross validation TNT %s\" %(scuadrado(precisiones_TNT_no_barajo)) )\n",
    "print(\"Cross validation HMM with shuffle %s\" %(scuadrado(precisiones_HMM_barajo)) )\n",
    "print(\"Cross validation TNT with shuffle %s\" %(scuadrado(precisiones_TNT_barajo)) )\n"
   ]
  },
  {
   "cell_type": "code",
   "execution_count": null,
   "metadata": {},
   "outputs": [],
   "source": []
  }
 ],
 "metadata": {
  "kernelspec": {
   "display_name": "Python 3",
   "language": "python",
   "name": "python3"
  },
  "language_info": {
   "codemirror_mode": {
    "name": "ipython",
    "version": 3
   },
   "file_extension": ".py",
   "mimetype": "text/x-python",
   "name": "python",
   "nbconvert_exporter": "python",
   "pygments_lexer": "ipython3",
   "version": "3.7.3"
  }
 },
 "nbformat": 4,
 "nbformat_minor": 2
}
