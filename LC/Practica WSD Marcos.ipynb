{
 "cells": [
  {
   "cell_type": "code",
   "execution_count": 1,
   "metadata": {},
   "outputs": [],
   "source": [
    "import nltk\n",
    "from nltk.corpus import wordnet as wn\n",
    "from nltk.corpus import stopwords as sw\n",
    "import gensim\n",
    "import numpy as np"
   ]
  },
  {
   "cell_type": "code",
   "execution_count": 2,
   "metadata": {},
   "outputs": [],
   "source": [
    "stopWords = set(sw.words(\"english\"))"
   ]
  },
  {
   "cell_type": "code",
   "execution_count": 3,
   "metadata": {},
   "outputs": [],
   "source": [
    "def lesk(word:str,sentence:str):\n",
    "    \"\"\"\n",
    "    :param word: word to do de disambiguation\n",
    "    :param sentence: sentence to disambiguate\n",
    "    :return: best sense of the word\n",
    "    \"\"\"\n",
    "    senses =wn.synsets(word)\n",
    "    best_sense= senses[0]\n",
    "    max_overlap = 0\n",
    "    context = set(nltk.word_tokenize(sentence))\n",
    "    context = context.difference(stopWords)\n",
    "    for sense in senses[1:]:\n",
    "        data = set(nltk.word_tokenize(sense.definition()+\" \"+\" \".join( sense.examples())))\n",
    "        signature = data.difference(stopWords)\n",
    "        overlap = len(context.intersection(signature))\n",
    "        if overlap >max_overlap:\n",
    "            max_overlap = overlap\n",
    "            best_sense = sense\n",
    "            \n",
    "    return best_sense\n",
    "  "
   ]
  },
  {
   "cell_type": "code",
   "execution_count": 4,
   "metadata": {},
   "outputs": [
    {
     "data": {
      "text/plain": [
       "Synset('depository_financial_institution.n.01')"
      ]
     },
     "execution_count": 4,
     "metadata": {},
     "output_type": "execute_result"
    }
   ],
   "source": [
    "lesk(\"bank\",\"Yesterday I went to the bank to withdraw the money and the credit card did not work\")"
   ]
  },
  {
   "cell_type": "code",
   "execution_count": 5,
   "metadata": {},
   "outputs": [],
   "source": [
    "def distanceCosine(a,b):\n",
    "    dot = np.dot(a, b)\n",
    "    norma = np.linalg.norm(a)\n",
    "    normb = np.linalg.norm(b)\n",
    "    cos = dot / (norma * normb)\n",
    "    return cos"
   ]
  },
  {
   "cell_type": "code",
   "execution_count": 6,
   "metadata": {},
   "outputs": [],
   "source": [
    "from nltk.data import find\n",
    "\n",
    "# Cargar el modelo de embeding pre-entrenados del NLTK\n",
    "word2vec_sample = str(find('models/word2vec_sample/pruned.word2vec.txt'))\n",
    "model = gensim.models.KeyedVectors.load_word2vec_format(word2vec_sample, binary=False)\n"
   ]
  },
  {
   "cell_type": "code",
   "execution_count": 7,
   "metadata": {},
   "outputs": [],
   "source": [
    "vector_mean =  model.vectors.mean(axis=0)"
   ]
  },
  {
   "cell_type": "code",
   "execution_count": 8,
   "metadata": {},
   "outputs": [],
   "source": [
    "def wsd_embeddings(word:str,sentence:str):\n",
    "    \"\"\"\n",
    "    :param word: word to do de disambiguation\n",
    "    :param sentence: sentence to disambiguate\n",
    "    :return: best sense of the word\n",
    "    \"\"\"\n",
    "    distances = []\n",
    "    senses =wn.synsets(word)\n",
    "    context = set(nltk.word_tokenize(sentence))\n",
    "    context = context.difference(stopWords)\n",
    "    matrixContext = np.zeros((len(context),300))\n",
    "    i= 0\n",
    "    for word in context:\n",
    "        if word in model.vocab:\n",
    "            matrixContext[i]=model[word]\n",
    "        else:\n",
    "            matrixContext[i]=vector_mean\n",
    "        i+=1\n",
    "    vectorcontext = matrixContext.mean(axis=0)\n",
    "    for sense in senses:\n",
    "        data = set(nltk.word_tokenize(sense.definition()+\" \"+\" \".join( sense.examples())))\n",
    "        signature = data.difference(stopWords)\n",
    "        matrixSiganture = np.zeros((len(signature),300))\n",
    "        i= 0\n",
    "        for word in signature:\n",
    "            if word in model.vocab:\n",
    "                matrixSiganture[i]=model[word]\n",
    "            else:\n",
    "                matrixSiganture[i]=vector_mean\n",
    "            i+=1\n",
    "        vectorSignature = matrixSiganture.mean(axis=0)\n",
    "\n",
    "        distances.append((sense,distanceCosine(vectorcontext,vectorSignature)))\n",
    "    \n",
    "            \n",
    "    return sorted(distances, key=lambda t:t[1],reverse=True)[0]\n",
    "    "
   ]
  },
  {
   "cell_type": "code",
   "execution_count": 9,
   "metadata": {},
   "outputs": [],
   "source": [
    "t = wsd_embeddings(\"bank\", \"Yesterday I went to the bank to withdraw the money and the credit carddid not work\")"
   ]
  },
  {
   "cell_type": "code",
   "execution_count": 10,
   "metadata": {},
   "outputs": [
    {
     "data": {
      "text/plain": [
       "['She deposits her paycheck every month']"
      ]
     },
     "execution_count": 10,
     "metadata": {},
     "output_type": "execute_result"
    }
   ],
   "source": [
    "t[0].examples()"
   ]
  },
  {
   "cell_type": "code",
   "execution_count": null,
   "metadata": {},
   "outputs": [],
   "source": []
  }
 ],
 "metadata": {
  "kernelspec": {
   "display_name": "Python 3",
   "language": "python",
   "name": "python3"
  },
  "language_info": {
   "codemirror_mode": {
    "name": "ipython",
    "version": 3
   },
   "file_extension": ".py",
   "mimetype": "text/x-python",
   "name": "python",
   "nbconvert_exporter": "python",
   "pygments_lexer": "ipython3",
   "version": "3.7.3"
  }
 },
 "nbformat": 4,
 "nbformat_minor": 2
}
