{
 "cells": [
  {
   "cell_type": "code",
   "execution_count": 1,
   "metadata": {},
   "outputs": [],
   "source": [
    "import collections"
   ]
  },
  {
   "cell_type": "code",
   "execution_count": 2,
   "metadata": {},
   "outputs": [],
   "source": [
    "cadena =\"el/DT perro/N come/V carne/N de/P la/DT carnicería/N y/C de/P la/DT nevera/N y/C canta/V el/DT la/N la/N la/N ./Fp\""
   ]
  },
  {
   "cell_type": "markdown",
   "metadata": {},
   "source": [
    "### Ejercicio 1\n",
    "Obtener un diccionario, que para cada categoría, muestre su frecuencia. Ordenar el\n",
    "resultado alfabéticamente por categoría"
   ]
  },
  {
   "cell_type": "code",
   "execution_count": 3,
   "metadata": {},
   "outputs": [],
   "source": [
    "listaPalabraCategoria = [parPalabraCategoria.split(\"/\") for parPalabraCategoria in cadena.split(\" \")]"
   ]
  },
  {
   "cell_type": "code",
   "execution_count": 4,
   "metadata": {},
   "outputs": [
    {
     "name": "stdout",
     "output_type": "stream",
     "text": [
      "C 2 \n",
      "\n",
      "DT 4 \n",
      "\n",
      "Fp 1 \n",
      "\n",
      "N 7 \n",
      "\n",
      "P 2 \n",
      "\n",
      "V 2 \n",
      "\n"
     ]
    }
   ],
   "source": [
    "categoriaFrecuencia = {}\n",
    "for palabra,Categoria in listaPalabraCategoria:\n",
    "    if categoriaFrecuencia.get(Categoria) is None:\n",
    "        categoriaFrecuencia[Categoria] = 1\n",
    "    else:\n",
    "        categoriaFrecuencia[Categoria] += 1\n",
    "for key in sorted(categoriaFrecuencia):\n",
    "    print(\"%s %s \\n\" %(key,categoriaFrecuencia[key]))"
   ]
  },
  {
   "cell_type": "markdown",
   "metadata": {},
   "source": [
    "### Ejercicio 2\n",
    "Obtener un diccionario, que para cada palabra, muestre su frecuencia, y una lista de\n",
    "sus categorías morfosintácticas con su respectiva frecuencia. Mostrar el resultado\n",
    "ordenado alfabéticamente por palabra."
   ]
  },
  {
   "cell_type": "code",
   "execution_count": 5,
   "metadata": {},
   "outputs": [
    {
     "name": "stdout",
     "output_type": "stream",
     "text": [
      ". 1 Fp 1  \n",
      "\n",
      "canta 1 V 1  \n",
      "\n",
      "carne 1 N 1  \n",
      "\n",
      "carnicería 1 N 1  \n",
      "\n",
      "come 1 V 1  \n",
      "\n",
      "de 2 P 2  \n",
      "\n",
      "el 2 DT 2  \n",
      "\n",
      "la 5 DT 2 N 3  \n",
      "\n",
      "nevera 1 N 1  \n",
      "\n",
      "perro 1 N 1  \n",
      "\n",
      "y 2 C 2  \n",
      "\n"
     ]
    }
   ],
   "source": [
    "palabraFreqCategorias = {}\n",
    "\n",
    "for palabra,categoria in listaPalabraCategoria:\n",
    "    \n",
    "    if palabraFreqCategorias.get(palabra) is None:\n",
    "        palabraFreqCategorias[palabra] = [1, {categoria:1}]\n",
    "    else:\n",
    "        palabraFreqCategorias[palabra][0]+=1\n",
    "        if palabraFreqCategorias[palabra][1].get(categoria) is None:\n",
    "            palabraFreqCategorias[palabra][1][categoria] = 1\n",
    "        else:\n",
    "            palabraFreqCategorias[palabra][1][categoria]+= 1\n",
    "for key in sorted(palabraFreqCategorias):\n",
    "    categorias = \"\"\n",
    "    for keyCategoria in palabraFreqCategorias[key][1]:\n",
    "        categorias += \"%s %s \" %(keyCategoria,palabraFreqCategorias[key][1][keyCategoria])\n",
    "    print(\"%s %s %s \\n\" %(key,palabraFreqCategorias[key][0],categorias) )"
   ]
  },
  {
   "cell_type": "markdown",
   "metadata": {},
   "source": [
    "### Ejercicio3\n",
    "Calcular la frecuencia de los todos los bigramas de la cadena, considerar un símbolo\n",
    "inicial $<S>$ y un símbolo final $</S>$ para la cadena."
   ]
  },
  {
   "cell_type": "code",
   "execution_count": 6,
   "metadata": {},
   "outputs": [
    {
     "name": "stdout",
     "output_type": "stream",
     "text": [
      "('<S>', 'DT') 1\n",
      "('DT', 'N') 4\n",
      "('N', 'V') 1\n",
      "('V', 'N') 1\n",
      "('N', 'P') 1\n",
      "('P', 'DT') 2\n",
      "('N', 'C') 2\n",
      "('C', 'P') 1\n",
      "('C', 'V') 1\n",
      "('V', 'DT') 1\n",
      "('N', 'N') 2\n",
      "('N', 'Fp') 1\n",
      "('Fp', '</S>') 1\n"
     ]
    }
   ],
   "source": [
    "listaCategorias = [parPalabraCategoria.split(\"/\")[1] for parPalabraCategoria in cadena.split(\" \")]\n",
    "bigramas = []\n",
    "i = 0\n",
    "while i<len(listaCategorias):\n",
    "    if i == 0:\n",
    "        bigramas.append((\"<S>\",listaCategorias[i]))\n",
    "    if i == len(listaCategorias)-1:\n",
    "        bigramas.append((listaCategorias[i],\"</S>\"))\n",
    "    else:\n",
    "        bigramas.append((listaCategorias[i],listaCategorias[i+1]))\n",
    "    i+=1\n",
    "    \n",
    "counter = collections.Counter(bigramas)\n",
    "for key in counter:\n",
    "    print(key,counter[key])"
   ]
  },
  {
   "cell_type": "markdown",
   "metadata": {},
   "source": [
    "### Ejercicio 4\n",
    "Construir una función que devuelva las probabilidades léxicas P(C|w) y de emisión\n",
    "P(w|C) para una palabra dada (w) para todas sus categorías (C) que aparecen en el\n",
    "diccionario construido anteriormente. Si la palabra no existe en el diccionario debe\n",
    "decir que la palabra es desconocida."
   ]
  },
  {
   "cell_type": "code",
   "execution_count": 7,
   "metadata": {},
   "outputs": [],
   "source": [
    "def probabilidades(word):\n",
    "    if palabraFreqCategorias.get(word) is None:\n",
    "        print(\"No se encuentra la palabra\")\n",
    "    else:\n",
    "        #lexicas P(categoria | palabra)\n",
    "        for key in palabraFreqCategorias[word][1]:\n",
    "            valor =palabraFreqCategorias[word][1][key]\n",
    "            print(\"P(%s | %s) = %.6f \\n\" %(word, key, valor/palabraFreqCategorias[word][0]))\n",
    "        \n",
    "        #emision P(palabra | categoria)\n",
    "        for key in palabraFreqCategorias[word][1]:\n",
    "            valor =palabraFreqCategorias[word][1][key]\n",
    "            print(\"P(%s | %s) = %.6f \\n\" %(word, key, valor/categoriaFrecuencia[key]))"
   ]
  },
  {
   "cell_type": "code",
   "execution_count": 8,
   "metadata": {},
   "outputs": [
    {
     "name": "stdout",
     "output_type": "stream",
     "text": [
      "P(la | DT) = 0.400000 \n",
      "\n",
      "P(la | N) = 0.600000 \n",
      "\n",
      "P(la | DT) = 0.500000 \n",
      "\n",
      "P(la | N) = 0.428571 \n",
      "\n"
     ]
    }
   ],
   "source": [
    "probabilidades(\"la\")"
   ]
  },
  {
   "cell_type": "code",
   "execution_count": 1,
   "metadata": {},
   "outputs": [],
   "source": []
  },
  {
   "cell_type": "code",
   "execution_count": null,
   "metadata": {},
   "outputs": [],
   "source": []
  }
 ],
 "metadata": {
  "kernelspec": {
   "display_name": "Python 3",
   "language": "python",
   "name": "python3"
  },
  "language_info": {
   "codemirror_mode": {
    "name": "ipython",
    "version": 3
   },
   "file_extension": ".py",
   "mimetype": "text/x-python",
   "name": "python",
   "nbconvert_exporter": "python",
   "pygments_lexer": "ipython3",
   "version": "3.7.3"
  }
 },
 "nbformat": 4,
 "nbformat_minor": 2
}
