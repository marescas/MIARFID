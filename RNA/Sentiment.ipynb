{
  "nbformat": 4,
  "nbformat_minor": 0,
  "metadata": {
    "kernelspec": {
      "display_name": "Python 3",
      "language": "python",
      "name": "python3"
    },
    "language_info": {
      "codemirror_mode": {
        "name": "ipython",
        "version": 3
      },
      "file_extension": ".py",
      "mimetype": "text/x-python",
      "name": "python",
      "nbconvert_exporter": "python",
      "pygments_lexer": "ipython3",
      "version": "3.7.5"
    },
    "colab": {
      "name": "Sentiment.ipynb",
      "provenance": []
    }
  },
  "cells": [
    {
      "cell_type": "code",
      "metadata": {
        "id": "CPfCECNReQNb",
        "colab_type": "code",
        "colab": {},
        "outputId": "cae76a31-6d5f-45fe-9111-4c69e61e743a"
      },
      "source": [
        "import pickle\n",
        "import numpy\n",
        "from keras.models import Sequential\n",
        "from keras.layers import Dense\n",
        "from keras.layers import LSTM,Dropout\n",
        "from keras.layers.embeddings import Embedding\n",
        "from keras.preprocessing import sequence\n",
        "from keras.preprocessing.text import Tokenizer\n",
        "from keras.utils import to_categorical\n",
        "from keras.callbacks import ModelCheckpoint\n",
        "import pandas as pd\n",
        "from sklearn.model_selection import train_test_split\n",
        "import re\n",
        "import io\n",
        "import numpy as np\n",
        "from sklearn.feature_extraction.text import TfidfVectorizer\n",
        "from keras.optimizers import SGD\n",
        "from keras.layers.normalization import BatchNormalization as BN\n",
        "from keras.layers import GaussianNoise as GN\n",
        "from keras.layers import Dense, Activation\n",
        "import matplotlib.pyplot as plt"
      ],
      "execution_count": 0,
      "outputs": [
        {
          "output_type": "stream",
          "text": [
            "Using TensorFlow backend.\n"
          ],
          "name": "stderr"
        }
      ]
    },
    {
      "cell_type": "code",
      "metadata": {
        "id": "adiwa0cteQNi",
        "colab_type": "code",
        "colab": {}
      },
      "source": [
        "def load_vectors(fname):\n",
        "    fin = io.open(fname, 'r', encoding='utf-8', newline='\\n', errors='ignore')\n",
        "    n, d = map(int, fin.readline().split(\" \"))\n",
        "    data = {}\n",
        "    for line in fin:\n",
        "        tokens = line.rstrip().split(' ')\n",
        "        data[tokens[0]] = map(float, tokens[1:])\n",
        "    return data\n"
      ],
      "execution_count": 0,
      "outputs": []
    },
    {
      "cell_type": "code",
      "metadata": {
        "id": "Ws66X_MreQNm",
        "colab_type": "code",
        "colab": {}
      },
      "source": [
        "#embeddings_vectors = load_vectors(\"twitter.vec\")"
      ],
      "execution_count": 0,
      "outputs": []
    },
    {
      "cell_type": "markdown",
      "metadata": {
        "id": "3NN7a4EHeQNp",
        "colab_type": "text"
      },
      "source": [
        "# Dataset"
      ]
    },
    {
      "cell_type": "code",
      "metadata": {
        "id": "QXh8Umf1eQNq",
        "colab_type": "code",
        "colab": {}
      },
      "source": [
        "col_names=[\"target\",\"id\",\"datetime\",\"query\",\"user\",\"text\"]"
      ],
      "execution_count": 0,
      "outputs": []
    },
    {
      "cell_type": "code",
      "metadata": {
        "id": "dFb3kGyeeQNs",
        "colab_type": "code",
        "colab": {}
      },
      "source": [
        "clean_re = re.compile('\\W+')\n",
        "url_re = re.compile(\"https?://[^\\s]+\")\n",
        "hashtag_re = re.compile(\"#(\\w+)\")\n",
        "mention_re = re.compile(\"@(\\w+)\")\n",
        "def preprocessing(text):\n",
        "    \"\"\"\n",
        "    Realiza el preprocesado de un determinado texto:\n",
        "    1- sustituye las urls por la palabra <url>\n",
        "    2- sustituye los hashtags por la palabra <hashtag>\n",
        "    3- sustituye las menciones por la palabra <mencion>\n",
        "    4- sustituye los numeros por la palabra <numero>\n",
        "    \"\"\"\n",
        "    text_clean = url_re.sub(\"<url>\",text)\n",
        "    text_clean = hashtag_re.sub(\"<hashtag>\", text_clean)\n",
        "    text_clean = mention_re.sub(\"<mencion>\", text_clean)\n",
        "    text_clean =re.sub(\"\\d+\", \"<numero>\", text_clean)\n",
        "    #text_clean = clean_re.sub(\" \",text_clean).lower()\n",
        "    text_clean = text_clean.lower()\n",
        "    #text_clean = Stemming(text_clean)\n",
        "    \n",
        "    return text_clean"
      ],
      "execution_count": 0,
      "outputs": []
    },
    {
      "cell_type": "code",
      "metadata": {
        "id": "X73jbQMaeQNv",
        "colab_type": "code",
        "colab": {}
      },
      "source": [
        "dataframe =  pd.read_csv(\"training.1600000.processed.noemoticon.csv\",encoding = \"ISO-8859-1\",names=col_names)"
      ],
      "execution_count": 0,
      "outputs": []
    },
    {
      "cell_type": "code",
      "metadata": {
        "id": "qSDMTXM0eQNw",
        "colab_type": "code",
        "colab": {}
      },
      "source": [
        "dataframe.target = dataframe.target.map({0:0,4:1})\n",
        "dataframe.text = dataframe.text.apply(preprocessing)"
      ],
      "execution_count": 0,
      "outputs": []
    },
    {
      "cell_type": "code",
      "metadata": {
        "id": "RVIcPXkueQNy",
        "colab_type": "code",
        "colab": {},
        "outputId": "96fed675-09cd-4da7-a2e5-df31839857e9"
      },
      "source": [
        "dataframe"
      ],
      "execution_count": 0,
      "outputs": [
        {
          "output_type": "execute_result",
          "data": {
            "text/html": [
              "<div>\n",
              "<style scoped>\n",
              "    .dataframe tbody tr th:only-of-type {\n",
              "        vertical-align: middle;\n",
              "    }\n",
              "\n",
              "    .dataframe tbody tr th {\n",
              "        vertical-align: top;\n",
              "    }\n",
              "\n",
              "    .dataframe thead th {\n",
              "        text-align: right;\n",
              "    }\n",
              "</style>\n",
              "<table border=\"1\" class=\"dataframe\">\n",
              "  <thead>\n",
              "    <tr style=\"text-align: right;\">\n",
              "      <th></th>\n",
              "      <th>target</th>\n",
              "      <th>id</th>\n",
              "      <th>datetime</th>\n",
              "      <th>query</th>\n",
              "      <th>user</th>\n",
              "      <th>text</th>\n",
              "    </tr>\n",
              "  </thead>\n",
              "  <tbody>\n",
              "    <tr>\n",
              "      <th>0</th>\n",
              "      <td>0</td>\n",
              "      <td>1467810369</td>\n",
              "      <td>Mon Apr 06 22:19:45 PDT 2009</td>\n",
              "      <td>NO_QUERY</td>\n",
              "      <td>_TheSpecialOne_</td>\n",
              "      <td>&lt;mencion&gt; &lt;url&gt; - awww, that's a bummer.  you ...</td>\n",
              "    </tr>\n",
              "    <tr>\n",
              "      <th>1</th>\n",
              "      <td>0</td>\n",
              "      <td>1467810672</td>\n",
              "      <td>Mon Apr 06 22:19:49 PDT 2009</td>\n",
              "      <td>NO_QUERY</td>\n",
              "      <td>scotthamilton</td>\n",
              "      <td>is upset that he can't update his facebook by ...</td>\n",
              "    </tr>\n",
              "    <tr>\n",
              "      <th>2</th>\n",
              "      <td>0</td>\n",
              "      <td>1467810917</td>\n",
              "      <td>Mon Apr 06 22:19:53 PDT 2009</td>\n",
              "      <td>NO_QUERY</td>\n",
              "      <td>mattycus</td>\n",
              "      <td>&lt;mencion&gt; i dived many times for the ball. man...</td>\n",
              "    </tr>\n",
              "    <tr>\n",
              "      <th>3</th>\n",
              "      <td>0</td>\n",
              "      <td>1467811184</td>\n",
              "      <td>Mon Apr 06 22:19:57 PDT 2009</td>\n",
              "      <td>NO_QUERY</td>\n",
              "      <td>ElleCTF</td>\n",
              "      <td>my whole body feels itchy and like its on fire</td>\n",
              "    </tr>\n",
              "    <tr>\n",
              "      <th>4</th>\n",
              "      <td>0</td>\n",
              "      <td>1467811193</td>\n",
              "      <td>Mon Apr 06 22:19:57 PDT 2009</td>\n",
              "      <td>NO_QUERY</td>\n",
              "      <td>Karoli</td>\n",
              "      <td>&lt;mencion&gt; no, it's not behaving at all. i'm ma...</td>\n",
              "    </tr>\n",
              "    <tr>\n",
              "      <th>...</th>\n",
              "      <td>...</td>\n",
              "      <td>...</td>\n",
              "      <td>...</td>\n",
              "      <td>...</td>\n",
              "      <td>...</td>\n",
              "      <td>...</td>\n",
              "    </tr>\n",
              "    <tr>\n",
              "      <th>1599995</th>\n",
              "      <td>1</td>\n",
              "      <td>2193601966</td>\n",
              "      <td>Tue Jun 16 08:40:49 PDT 2009</td>\n",
              "      <td>NO_QUERY</td>\n",
              "      <td>AmandaMarie1028</td>\n",
              "      <td>just woke up. having no school is the best fee...</td>\n",
              "    </tr>\n",
              "    <tr>\n",
              "      <th>1599996</th>\n",
              "      <td>1</td>\n",
              "      <td>2193601969</td>\n",
              "      <td>Tue Jun 16 08:40:49 PDT 2009</td>\n",
              "      <td>NO_QUERY</td>\n",
              "      <td>TheWDBoards</td>\n",
              "      <td>thewdb.com - very cool to hear old walt interv...</td>\n",
              "    </tr>\n",
              "    <tr>\n",
              "      <th>1599997</th>\n",
              "      <td>1</td>\n",
              "      <td>2193601991</td>\n",
              "      <td>Tue Jun 16 08:40:49 PDT 2009</td>\n",
              "      <td>NO_QUERY</td>\n",
              "      <td>bpbabe</td>\n",
              "      <td>are you ready for your mojo makeover? ask me f...</td>\n",
              "    </tr>\n",
              "    <tr>\n",
              "      <th>1599998</th>\n",
              "      <td>1</td>\n",
              "      <td>2193602064</td>\n",
              "      <td>Tue Jun 16 08:40:49 PDT 2009</td>\n",
              "      <td>NO_QUERY</td>\n",
              "      <td>tinydiamondz</td>\n",
              "      <td>happy &lt;numero&gt;th birthday to my boo of alll ti...</td>\n",
              "    </tr>\n",
              "    <tr>\n",
              "      <th>1599999</th>\n",
              "      <td>1</td>\n",
              "      <td>2193602129</td>\n",
              "      <td>Tue Jun 16 08:40:50 PDT 2009</td>\n",
              "      <td>NO_QUERY</td>\n",
              "      <td>RyanTrevMorris</td>\n",
              "      <td>happy &lt;hashtag&gt; &lt;mencion&gt; &lt;mencion&gt; &lt;mencion&gt;</td>\n",
              "    </tr>\n",
              "  </tbody>\n",
              "</table>\n",
              "<p>1600000 rows × 6 columns</p>\n",
              "</div>"
            ],
            "text/plain": [
              "         target          id                      datetime     query  \\\n",
              "0             0  1467810369  Mon Apr 06 22:19:45 PDT 2009  NO_QUERY   \n",
              "1             0  1467810672  Mon Apr 06 22:19:49 PDT 2009  NO_QUERY   \n",
              "2             0  1467810917  Mon Apr 06 22:19:53 PDT 2009  NO_QUERY   \n",
              "3             0  1467811184  Mon Apr 06 22:19:57 PDT 2009  NO_QUERY   \n",
              "4             0  1467811193  Mon Apr 06 22:19:57 PDT 2009  NO_QUERY   \n",
              "...         ...         ...                           ...       ...   \n",
              "1599995       1  2193601966  Tue Jun 16 08:40:49 PDT 2009  NO_QUERY   \n",
              "1599996       1  2193601969  Tue Jun 16 08:40:49 PDT 2009  NO_QUERY   \n",
              "1599997       1  2193601991  Tue Jun 16 08:40:49 PDT 2009  NO_QUERY   \n",
              "1599998       1  2193602064  Tue Jun 16 08:40:49 PDT 2009  NO_QUERY   \n",
              "1599999       1  2193602129  Tue Jun 16 08:40:50 PDT 2009  NO_QUERY   \n",
              "\n",
              "                    user                                               text  \n",
              "0        _TheSpecialOne_  <mencion> <url> - awww, that's a bummer.  you ...  \n",
              "1          scotthamilton  is upset that he can't update his facebook by ...  \n",
              "2               mattycus  <mencion> i dived many times for the ball. man...  \n",
              "3                ElleCTF    my whole body feels itchy and like its on fire   \n",
              "4                 Karoli  <mencion> no, it's not behaving at all. i'm ma...  \n",
              "...                  ...                                                ...  \n",
              "1599995  AmandaMarie1028  just woke up. having no school is the best fee...  \n",
              "1599996      TheWDBoards  thewdb.com - very cool to hear old walt interv...  \n",
              "1599997           bpbabe  are you ready for your mojo makeover? ask me f...  \n",
              "1599998     tinydiamondz  happy <numero>th birthday to my boo of alll ti...  \n",
              "1599999   RyanTrevMorris     happy <hashtag> <mencion> <mencion> <mencion>   \n",
              "\n",
              "[1600000 rows x 6 columns]"
            ]
          },
          "metadata": {
            "tags": []
          },
          "execution_count": 8
        }
      ]
    },
    {
      "cell_type": "code",
      "metadata": {
        "id": "M9Kg8IMEeQN0",
        "colab_type": "code",
        "colab": {},
        "outputId": "206b9287-9e25-49ae-e6d4-2185c640efa6"
      },
      "source": [
        "dataframe.groupby(\"target\").count()"
      ],
      "execution_count": 0,
      "outputs": [
        {
          "output_type": "execute_result",
          "data": {
            "text/html": [
              "<div>\n",
              "<style scoped>\n",
              "    .dataframe tbody tr th:only-of-type {\n",
              "        vertical-align: middle;\n",
              "    }\n",
              "\n",
              "    .dataframe tbody tr th {\n",
              "        vertical-align: top;\n",
              "    }\n",
              "\n",
              "    .dataframe thead th {\n",
              "        text-align: right;\n",
              "    }\n",
              "</style>\n",
              "<table border=\"1\" class=\"dataframe\">\n",
              "  <thead>\n",
              "    <tr style=\"text-align: right;\">\n",
              "      <th></th>\n",
              "      <th>id</th>\n",
              "      <th>datetime</th>\n",
              "      <th>query</th>\n",
              "      <th>user</th>\n",
              "      <th>text</th>\n",
              "    </tr>\n",
              "    <tr>\n",
              "      <th>target</th>\n",
              "      <th></th>\n",
              "      <th></th>\n",
              "      <th></th>\n",
              "      <th></th>\n",
              "      <th></th>\n",
              "    </tr>\n",
              "  </thead>\n",
              "  <tbody>\n",
              "    <tr>\n",
              "      <th>0</th>\n",
              "      <td>800000</td>\n",
              "      <td>800000</td>\n",
              "      <td>800000</td>\n",
              "      <td>800000</td>\n",
              "      <td>800000</td>\n",
              "    </tr>\n",
              "    <tr>\n",
              "      <th>1</th>\n",
              "      <td>800000</td>\n",
              "      <td>800000</td>\n",
              "      <td>800000</td>\n",
              "      <td>800000</td>\n",
              "      <td>800000</td>\n",
              "    </tr>\n",
              "  </tbody>\n",
              "</table>\n",
              "</div>"
            ],
            "text/plain": [
              "            id  datetime   query    user    text\n",
              "target                                          \n",
              "0       800000    800000  800000  800000  800000\n",
              "1       800000    800000  800000  800000  800000"
            ]
          },
          "metadata": {
            "tags": []
          },
          "execution_count": 9
        }
      ]
    },
    {
      "cell_type": "code",
      "metadata": {
        "id": "Lqeue6lEeQN2",
        "colab_type": "code",
        "colab": {}
      },
      "source": [
        "train, test = train_test_split(dataframe, test_size=0.2,random_state=10)"
      ],
      "execution_count": 0,
      "outputs": []
    },
    {
      "cell_type": "code",
      "metadata": {
        "id": "N-L-SPWmeQN3",
        "colab_type": "code",
        "colab": {},
        "outputId": "f9a49a31-fce6-4ce5-b724-b759a65abbbb"
      },
      "source": [
        "train.groupby(\"target\").count()"
      ],
      "execution_count": 0,
      "outputs": [
        {
          "output_type": "execute_result",
          "data": {
            "text/html": [
              "<div>\n",
              "<style scoped>\n",
              "    .dataframe tbody tr th:only-of-type {\n",
              "        vertical-align: middle;\n",
              "    }\n",
              "\n",
              "    .dataframe tbody tr th {\n",
              "        vertical-align: top;\n",
              "    }\n",
              "\n",
              "    .dataframe thead th {\n",
              "        text-align: right;\n",
              "    }\n",
              "</style>\n",
              "<table border=\"1\" class=\"dataframe\">\n",
              "  <thead>\n",
              "    <tr style=\"text-align: right;\">\n",
              "      <th></th>\n",
              "      <th>id</th>\n",
              "      <th>datetime</th>\n",
              "      <th>query</th>\n",
              "      <th>user</th>\n",
              "      <th>text</th>\n",
              "    </tr>\n",
              "    <tr>\n",
              "      <th>target</th>\n",
              "      <th></th>\n",
              "      <th></th>\n",
              "      <th></th>\n",
              "      <th></th>\n",
              "      <th></th>\n",
              "    </tr>\n",
              "  </thead>\n",
              "  <tbody>\n",
              "    <tr>\n",
              "      <th>0</th>\n",
              "      <td>640165</td>\n",
              "      <td>640165</td>\n",
              "      <td>640165</td>\n",
              "      <td>640165</td>\n",
              "      <td>640165</td>\n",
              "    </tr>\n",
              "    <tr>\n",
              "      <th>1</th>\n",
              "      <td>639835</td>\n",
              "      <td>639835</td>\n",
              "      <td>639835</td>\n",
              "      <td>639835</td>\n",
              "      <td>639835</td>\n",
              "    </tr>\n",
              "  </tbody>\n",
              "</table>\n",
              "</div>"
            ],
            "text/plain": [
              "            id  datetime   query    user    text\n",
              "target                                          \n",
              "0       640165    640165  640165  640165  640165\n",
              "1       639835    639835  639835  639835  639835"
            ]
          },
          "metadata": {
            "tags": []
          },
          "execution_count": 11
        }
      ]
    },
    {
      "cell_type": "code",
      "metadata": {
        "id": "I46OgLzPeQN5",
        "colab_type": "code",
        "colab": {},
        "outputId": "8d4ac51f-5dac-42e3-c6d5-b439badb6c4e"
      },
      "source": [
        "test.groupby(\"target\").count()"
      ],
      "execution_count": 0,
      "outputs": [
        {
          "output_type": "execute_result",
          "data": {
            "text/html": [
              "<div>\n",
              "<style scoped>\n",
              "    .dataframe tbody tr th:only-of-type {\n",
              "        vertical-align: middle;\n",
              "    }\n",
              "\n",
              "    .dataframe tbody tr th {\n",
              "        vertical-align: top;\n",
              "    }\n",
              "\n",
              "    .dataframe thead th {\n",
              "        text-align: right;\n",
              "    }\n",
              "</style>\n",
              "<table border=\"1\" class=\"dataframe\">\n",
              "  <thead>\n",
              "    <tr style=\"text-align: right;\">\n",
              "      <th></th>\n",
              "      <th>id</th>\n",
              "      <th>datetime</th>\n",
              "      <th>query</th>\n",
              "      <th>user</th>\n",
              "      <th>text</th>\n",
              "    </tr>\n",
              "    <tr>\n",
              "      <th>target</th>\n",
              "      <th></th>\n",
              "      <th></th>\n",
              "      <th></th>\n",
              "      <th></th>\n",
              "      <th></th>\n",
              "    </tr>\n",
              "  </thead>\n",
              "  <tbody>\n",
              "    <tr>\n",
              "      <th>0</th>\n",
              "      <td>159835</td>\n",
              "      <td>159835</td>\n",
              "      <td>159835</td>\n",
              "      <td>159835</td>\n",
              "      <td>159835</td>\n",
              "    </tr>\n",
              "    <tr>\n",
              "      <th>1</th>\n",
              "      <td>160165</td>\n",
              "      <td>160165</td>\n",
              "      <td>160165</td>\n",
              "      <td>160165</td>\n",
              "      <td>160165</td>\n",
              "    </tr>\n",
              "  </tbody>\n",
              "</table>\n",
              "</div>"
            ],
            "text/plain": [
              "            id  datetime   query    user    text\n",
              "target                                          \n",
              "0       159835    159835  159835  159835  159835\n",
              "1       160165    160165  160165  160165  160165"
            ]
          },
          "metadata": {
            "tags": []
          },
          "execution_count": 12
        }
      ]
    },
    {
      "cell_type": "code",
      "metadata": {
        "id": "rF1bsGHdeQN6",
        "colab_type": "code",
        "colab": {}
      },
      "source": [
        "num_clases = 2"
      ],
      "execution_count": 0,
      "outputs": []
    },
    {
      "cell_type": "markdown",
      "metadata": {
        "id": "C1yWiX9feQN8",
        "colab_type": "text"
      },
      "source": [
        "# Bag of words + NN"
      ]
    },
    {
      "cell_type": "code",
      "metadata": {
        "id": "Nhx9U9haeQN8",
        "colab_type": "code",
        "colab": {}
      },
      "source": [
        "maxfeature = 60000\n",
        "vectorizer = TfidfVectorizer(lowercase=True,max_features=maxfeature,stop_words=\"english\",ngram_range=(1,3))\n",
        "trainBOW = vectorizer.fit_transform(train.text)\n",
        "testBOW = vectorizer.transform(test.text)\n",
        "y_train = to_categorical(train.target,num_clases)\n",
        "y_test = to_categorical(test.target,num_clases)"
      ],
      "execution_count": 0,
      "outputs": []
    },
    {
      "cell_type": "code",
      "metadata": {
        "id": "HVAafEgaeQN-",
        "colab_type": "code",
        "colab": {}
      },
      "source": [
        "filepath=\"weights-improvement-{epoch:02d}-{val_accuracy:.2f}.hdf5\"\n",
        "checkpoint = ModelCheckpoint(filepath, monitor='val_accuracy', verbose=1, save_best_only=True, mode='max')\n",
        "callbacks_list = [checkpoint]"
      ],
      "execution_count": 0,
      "outputs": []
    },
    {
      "cell_type": "code",
      "metadata": {
        "id": "3JXoOGiPeQN_",
        "colab_type": "code",
        "colab": {},
        "outputId": "af200c60-ea85-4a0e-bb24-902864bc0b0a"
      },
      "source": [
        "model = Sequential()\n",
        "model.add(Dense(256,input_shape=(maxfeature,)))\n",
        "model.add(BN())\n",
        "model.add(GN(0.2))\n",
        "model.add(Activation('relu'))\n",
        "\n",
        "model.add(Dense(128))\n",
        "model.add(BN())\n",
        "model.add(GN(0.2))\n",
        "model.add(Activation('relu'))\n",
        "\n",
        "model.add(Dense(2, activation='softmax'))\n",
        "model.summary()"
      ],
      "execution_count": 0,
      "outputs": [
        {
          "output_type": "stream",
          "text": [
            "Model: \"sequential_1\"\n",
            "_________________________________________________________________\n",
            "Layer (type)                 Output Shape              Param #   \n",
            "=================================================================\n",
            "dense_1 (Dense)              (None, 256)               15360256  \n",
            "_________________________________________________________________\n",
            "batch_normalization_1 (Batch (None, 256)               1024      \n",
            "_________________________________________________________________\n",
            "gaussian_noise_1 (GaussianNo (None, 256)               0         \n",
            "_________________________________________________________________\n",
            "activation_1 (Activation)    (None, 256)               0         \n",
            "_________________________________________________________________\n",
            "dense_2 (Dense)              (None, 128)               32896     \n",
            "_________________________________________________________________\n",
            "batch_normalization_2 (Batch (None, 128)               512       \n",
            "_________________________________________________________________\n",
            "gaussian_noise_2 (GaussianNo (None, 128)               0         \n",
            "_________________________________________________________________\n",
            "activation_2 (Activation)    (None, 128)               0         \n",
            "_________________________________________________________________\n",
            "dense_3 (Dense)              (None, 2)                 258       \n",
            "=================================================================\n",
            "Total params: 15,394,946\n",
            "Trainable params: 15,394,178\n",
            "Non-trainable params: 768\n",
            "_________________________________________________________________\n"
          ],
          "name": "stdout"
        }
      ]
    },
    {
      "cell_type": "code",
      "metadata": {
        "id": "SLU_NsFzeQOB",
        "colab_type": "code",
        "colab": {}
      },
      "source": [
        "sgd=SGD(lr=0.1, decay=0.0, momentum=0.0)\n",
        "model.compile(loss='categorical_crossentropy',\n",
        "              optimizer=sgd,\n",
        "              metrics=['accuracy'])"
      ],
      "execution_count": 0,
      "outputs": []
    },
    {
      "cell_type": "code",
      "metadata": {
        "id": "22sv1636eQOC",
        "colab_type": "code",
        "colab": {},
        "outputId": "242a4cae-22ab-43fb-cbaf-2f05ae39b8ca"
      },
      "source": [
        "history = model.fit(trainBOW, y_train,\n",
        "          batch_size=128,\n",
        "          epochs=10,\n",
        "          validation_data=(testBOW, y_test),callbacCroquetas1997\n",
        "                    ks=callbacks_list)"
      ],
      "execution_count": 0,
      "outputs": [
        {
          "output_type": "stream",
          "text": [
            "Train on 1280000 samples, validate on 320000 samples\n",
            "Epoch 1/10\n",
            "1280000/1280000 [==============================] - 696s 543us/step - loss: 0.4728 - accuracy: 0.7728 - val_loss: 0.4537 - val_accuracy: 0.7852\n",
            "\n",
            "Epoch 00001: val_accuracy improved from -inf to 0.78517, saving model to weights-improvement-01-0.79.hdf5\n",
            "Epoch 2/10\n",
            "1280000/1280000 [==============================] - 695s 543us/step - loss: 0.4287 - accuracy: 0.7998 - val_loss: 0.4505 - val_accuracy: 0.7863\n",
            "\n",
            "Epoch 00002: val_accuracy improved from 0.78517 to 0.78632, saving model to weights-improvement-02-0.79.hdf5\n",
            "Epoch 3/10\n",
            "1280000/1280000 [==============================] - 691s 540us/step - loss: 0.4005 - accuracy: 0.8156 - val_loss: 0.4574 - val_accuracy: 0.7852\n",
            "\n",
            "Epoch 00003: val_accuracy did not improve from 0.78632\n",
            "Epoch 4/10\n",
            "1280000/1280000 [==============================] - 695s 543us/step - loss: 0.3647 - accuracy: 0.8340 - val_loss: 0.4819 - val_accuracy: 0.7811\n",
            "\n",
            "Epoch 00004: val_accuracy did not improve from 0.78632\n",
            "Epoch 5/10\n",
            "1280000/1280000 [==============================] - 693s 541us/step - loss: 0.3192 - accuracy: 0.8582 - val_loss: 0.5140 - val_accuracy: 0.7734\n",
            "\n",
            "Epoch 00005: val_accuracy did not improve from 0.78632\n",
            "Epoch 6/10\n",
            "1280000/1280000 [==============================] - 691s 540us/step - loss: 0.2682 - accuracy: 0.8839 - val_loss: 0.5818 - val_accuracy: 0.7674\n",
            "\n",
            "Epoch 00006: val_accuracy did not improve from 0.78632\n",
            "Epoch 7/10\n",
            "1280000/1280000 [==============================] - 692s 541us/step - loss: 0.2206 - accuracy: 0.9072 - val_loss: 0.6567 - val_accuracy: 0.7642\n",
            "\n",
            "Epoch 00007: val_accuracy did not improve from 0.78632\n",
            "Epoch 8/10\n",
            "1280000/1280000 [==============================] - 685s 535us/step - loss: 0.1832 - accuracy: 0.9251 - val_loss: 0.7457 - val_accuracy: 0.7634\n",
            "\n",
            "Epoch 00008: val_accuracy did not improve from 0.78632\n",
            "Epoch 9/10\n",
            "1280000/1280000 [==============================] - 689s 538us/step - loss: 0.1550 - accuracy: 0.9376 - val_loss: 0.8181 - val_accuracy: 0.7600\n",
            "\n",
            "Epoch 00009: val_accuracy did not improve from 0.78632\n",
            "Epoch 10/10\n",
            "1280000/1280000 [==============================] - 694s 542us/step - loss: 0.1339 - accuracy: 0.9469 - val_loss: 0.8531 - val_accuracy: 0.7595\n",
            "\n",
            "Epoch 00010: val_accuracy did not improve from 0.78632\n"
          ],
          "name": "stdout"
        }
      ]
    },
    {
      "cell_type": "code",
      "metadata": {
        "id": "MZQtZkTveQOE",
        "colab_type": "code",
        "colab": {},
        "outputId": "0a385be3-31d2-4ba5-fa71-fa20632024e7"
      },
      "source": [
        "# Evolución del accuracy de train y test\n",
        "plt.plot(history.history['accuracy'])\n",
        "plt.plot(history.history['val_accuracy'])\n",
        "plt.title('Model accuracy')\n",
        "plt.ylabel('Accuracy')\n",
        "plt.xlabel('Epoch')\n",
        "plt.legend(['Train', 'Test'], loc='upper left')\n",
        "plt.show()\n",
        "\n",
        "#Evolución del la funcion de perdida en train y test\n",
        "plt.plot(history.history['loss'])\n",
        "plt.plot(history.history['val_loss'])\n",
        "plt.title('Model loss')\n",
        "plt.ylabel('Loss')\n",
        "plt.xlabel('Epoch')\n",
        "plt.legend(['Train', 'Test'], loc='upper left')\n",
        "plt.show()"
      ],
      "execution_count": 0,
      "outputs": [
        {
          "output_type": "display_data",
          "data": {
            "image/png": "[encoded data removed]",
            "text/plain": [
              "<Figure size 432x288 with 1 Axes>"
            ]
          },
          "metadata": {
            "tags": [],
            "needs_background": "light"
          }
        },
        {
          "output_type": "display_data",
          "data": {
            "image/png": "[encoded data removed]",
            "text/plain": [
              "<Figure size 432x288 with 1 Axes>"
            ]
          },
          "metadata": {
            "tags": [],
            "needs_background": "light"
          }
        }
      ]
    },
    {
      "cell_type": "markdown",
      "metadata": {
        "id": "nyob8G6ZeQOF",
        "colab_type": "text"
      },
      "source": [
        "# LSTM "
      ]
    },
    {
      "cell_type": "code",
      "metadata": {
        "id": "v7uDx9UXeQOF",
        "colab_type": "code",
        "colab": {}
      },
      "source": [
        "#Habilitamos un tokenizer\n",
        "tok = Tokenizer(char_level=False,oov_token=\"oov\",lower=True)"
      ],
      "execution_count": 0,
      "outputs": []
    },
    {
      "cell_type": "code",
      "metadata": {
        "id": "imCnNg9SeQOG",
        "colab_type": "code",
        "colab": {}
      },
      "source": [
        "#creamos los indices para el train\n",
        "tok.fit_on_texts(list(train.text))"
      ],
      "execution_count": 0,
      "outputs": []
    },
    {
      "cell_type": "code",
      "metadata": {
        "id": "HuetOgeheQOI",
        "colab_type": "code",
        "colab": {}
      },
      "source": [
        "#Transformamos los tweets en secuencias de numeros\n",
        "textIntSequenceTrain = tok.texts_to_sequences(list(train.text))\n",
        "textIntSequenceTest = tok.texts_to_sequences(list(test.text))"
      ],
      "execution_count": 0,
      "outputs": []
    },
    {
      "cell_type": "code",
      "metadata": {
        "id": "Iziw6goAeQOJ",
        "colab_type": "code",
        "colab": {},
        "outputId": "384f08ff-8727-4f6c-aa76-7bc838113ce9"
      },
      "source": [
        "maxLen = max([len(textSeq) for textSeq in textIntSequenceTrain])\n",
        "maxLen"
      ],
      "execution_count": 0,
      "outputs": [
        {
          "output_type": "execute_result",
          "data": {
            "text/plain": [
              "118"
            ]
          },
          "metadata": {
            "tags": []
          },
          "execution_count": 23
        }
      ]
    },
    {
      "cell_type": "code",
      "metadata": {
        "id": "jY7Y6-N6eQOK",
        "colab_type": "code",
        "colab": {}
      },
      "source": [
        "x_train = sequence.pad_sequences(textIntSequenceTrain,maxLen)\n",
        "x_test = sequence.pad_sequences(textIntSequenceTest,maxLen)\n",
        "y_train = to_categorical(train.target,num_clases)\n",
        "y_test = to_categorical(test.target,num_clases)"
      ],
      "execution_count": 0,
      "outputs": []
    },
    {
      "cell_type": "code",
      "metadata": {
        "id": "c4RSqwdueQOL",
        "colab_type": "code",
        "colab": {},
        "outputId": "568b38f5-83df-4505-9183-89a81a16dc05"
      },
      "source": [
        "word_index = tok.word_index\n",
        "len(word_index)"
      ],
      "execution_count": 0,
      "outputs": [
        {
          "output_type": "execute_result",
          "data": {
            "text/plain": [
              "255821"
            ]
          },
          "metadata": {
            "tags": []
          },
          "execution_count": 25
        }
      ]
    },
    {
      "cell_type": "code",
      "metadata": {
        "id": "eVZjplB_eQOM",
        "colab_type": "code",
        "colab": {},
        "outputId": "c1bf330d-19b8-47bd-d84a-d66fc7050195"
      },
      "source": [
        "#model \n",
        "model = Sequential()\n",
        "model.add(Embedding(len(word_index)+1,100, input_length=maxLen))\n",
        "model.add(LSTM(128, dropout=0.5))\n",
        "model.add(Dense(2, activation='softmax'))\n",
        "model.summary()"
      ],
      "execution_count": 0,
      "outputs": [
        {
          "output_type": "stream",
          "text": [
            "Model: \"sequential_2\"\n",
            "_________________________________________________________________\n",
            "Layer (type)                 Output Shape              Param #   \n",
            "=================================================================\n",
            "embedding_1 (Embedding)      (None, 118, 100)          25582200  \n",
            "_________________________________________________________________\n",
            "lstm_1 (LSTM)                (None, 128)               117248    \n",
            "_________________________________________________________________\n",
            "dense_4 (Dense)              (None, 2)                 258       \n",
            "=================================================================\n",
            "Total params: 25,699,706\n",
            "Trainable params: 25,699,706\n",
            "Non-trainable params: 0\n",
            "_________________________________________________________________\n"
          ],
          "name": "stdout"
        }
      ]
    },
    {
      "cell_type": "code",
      "metadata": {
        "id": "MRx9jJpteQOO",
        "colab_type": "code",
        "colab": {}
      },
      "source": [
        "model.compile(loss='binary_crossentropy',\n",
        "              optimizer='adam',\n",
        "              metrics=['accuracy'])"
      ],
      "execution_count": 0,
      "outputs": []
    },
    {
      "cell_type": "code",
      "metadata": {
        "id": "yigMWujheQOP",
        "colab_type": "code",
        "colab": {},
        "outputId": "30f8a221-e0c3-40cc-f33a-8a4fb0722fb7"
      },
      "source": [
        "history = model.fit(x_train, y_train,\n",
        "          batch_size=512,\n",
        "          epochs=10,\n",
        "          validation_data=(x_test, y_test))"
      ],
      "execution_count": 0,
      "outputs": [
        {
          "output_type": "stream",
          "text": [
            "C:\\Users\\Marcos Esteve\\Anaconda3\\envs\\tensorflow_gpuenv\\lib\\site-packages\\tensorflow_core\\python\\framework\\indexed_slices.py:424: UserWarning: Converting sparse IndexedSlices to a dense Tensor of unknown shape. This may consume a large amount of memory.\n",
            "  \"Converting sparse IndexedSlices to a dense Tensor of unknown shape. \"\n"
          ],
          "name": "stderr"
        },
        {
          "output_type": "stream",
          "text": [
            "Train on 1280000 samples, validate on 320000 samples\n",
            "Epoch 1/10\n",
            "1280000/1280000 [==============================] - 349s 273us/step - loss: 0.4254 - accuracy: 0.8028 - val_loss: 0.3925 - val_accuracy: 0.8202\n",
            "Epoch 2/10\n",
            "1280000/1280000 [==============================] - 349s 273us/step - loss: 0.3709 - accuracy: 0.8340 - val_loss: 0.3843 - val_accuracy: 0.8258\n",
            "Epoch 3/10\n",
            "1280000/1280000 [==============================] - 348s 272us/step - loss: 0.3444 - accuracy: 0.8480 - val_loss: 0.3873 - val_accuracy: 0.8257\n",
            "Epoch 4/10\n",
            "1280000/1280000 [==============================] - 349s 273us/step - loss: 0.3233 - accuracy: 0.8589 - val_loss: 0.3955 - val_accuracy: 0.8242\n",
            "Epoch 5/10\n",
            "1280000/1280000 [==============================] - 349s 273us/step - loss: 0.3050 - accuracy: 0.8679 - val_loss: 0.4052 - val_accuracy: 0.8233\n",
            "Epoch 6/10\n",
            "1280000/1280000 [==============================] - 348s 272us/step - loss: 0.2879 - accuracy: 0.8763 - val_loss: 0.4140 - val_accuracy: 0.8232\n",
            "Epoch 7/10\n",
            "1280000/1280000 [==============================] - 348s 272us/step - loss: 0.2720 - accuracy: 0.8832 - val_loss: 0.4271 - val_accuracy: 0.8203\n",
            "Epoch 8/10\n",
            "1280000/1280000 [==============================] - 349s 273us/step - loss: 0.2586 - accuracy: 0.8890 - val_loss: 0.4493 - val_accuracy: 0.8190\n",
            "Epoch 9/10\n",
            "1280000/1280000 [==============================] - 348s 272us/step - loss: 0.2475 - accuracy: 0.8937 - val_loss: 0.4594 - val_accuracy: 0.8187\n",
            "Epoch 10/10\n",
            "1280000/1280000 [==============================] - 348s 272us/step - loss: 0.2387 - accuracy: 0.8974 - val_loss: 0.4822 - val_accuracy: 0.8182\n"
          ],
          "name": "stdout"
        }
      ]
    },
    {
      "cell_type": "code",
      "metadata": {
        "id": "eL5RTOsVeQOQ",
        "colab_type": "code",
        "colab": {},
        "outputId": "426693a4-c45e-4bc2-a842-738d659487c3"
      },
      "source": [
        "# Evolución del accuracy de train y test\n",
        "plt.plot(history.history['accuracy'])\n",
        "plt.plot(history.history['val_accuracy'])\n",
        "plt.title('Model accuracy')\n",
        "plt.ylabel('Accuracy')\n",
        "plt.xlabel('Epoch')\n",
        "plt.legend(['Train', 'Test'], loc='upper left')\n",
        "plt.show()\n",
        "\n",
        "#Evolución del la funcion de perdida en train y test\n",
        "plt.plot(history.history['loss'])\n",
        "plt.plot(history.history['val_loss'])\n",
        "plt.title('Model loss')\n",
        "plt.ylabel('Loss')\n",
        "plt.xlabel('Epoch')\n",
        "plt.legend(['Train', 'Test'], loc='upper left')\n",
        "plt.show()"
      ],
      "execution_count": 0,
      "outputs": [
        {
          "output_type": "display_data",
          "data": {
            "image/png": "[encoded data removed]",
            "text/plain": [
              "<Figure size 432x288 with 1 Axes>"
            ]
          },
          "metadata": {
            "tags": [],
            "needs_background": "light"
          }
        },
        {
          "output_type": "display_data",
          "data": {
            "image/png": "[encoded data removed]",
            "text/plain": [
              "<Figure size 432x288 with 1 Axes>"
            ]
          },
          "metadata": {
            "tags": [],
            "needs_background": "light"
          }
        }
      ]
    },
    {
      "cell_type": "code",
      "metadata": {
        "id": "WBQu0L6YeQOR",
        "colab_type": "code",
        "colab": {}
      },
      "source": [
        ""
      ],
      "execution_count": 0,
      "outputs": []
    }
  ]
}