{
  "nbformat": 4,
  "nbformat_minor": 0,
  "metadata": {
    "colab": {
      "name": "Practica2 MNIST",
      "provenance": [],
      "collapsed_sections": []
    },
    "kernelspec": {
      "name": "python3",
      "display_name": "Python 3"
    },
    "accelerator": "GPU"
  },
  "cells": [
    {
      "cell_type": "code",
      "metadata": {
        "id": "hEMZ2ivKERQe",
        "colab_type": "code",
        "outputId": "32838873-1c48-43f2-d4ff-be4221af9006",
        "colab": {
          "base_uri": "https://localhost:8080/",
          "height": 80
        }
      },
      "source": [
        "import keras\n",
        "from keras.callbacks import LearningRateScheduler as LRS\n",
        "\n",
        "from keras.datasets import mnist\n",
        "from keras.models import Sequential\n",
        "from keras.layers import Dense, Activation, Reshape\n",
        "from keras.layers.normalization import BatchNormalization as BN\n",
        "from keras.layers import GaussianNoise as GN\n",
        "from keras.optimizers import SGD\n",
        "\n",
        "from keras.preprocessing.image import ImageDataGenerator"
      ],
      "execution_count": 0,
      "outputs": [
        {
          "output_type": "stream",
          "text": [
            "Using TensorFlow backend.\n"
          ],
          "name": "stderr"
        },
        {
          "output_type": "display_data",
          "data": {
            "text/html": [
              "<p style=\"color: red;\">\n",
              "The default version of TensorFlow in Colab will soon switch to TensorFlow 2.x.<br>\n",
              "We recommend you <a href=\"https://www.tensorflow.org/guide/migrate\" target=\"_blank\">upgrade</a> now \n",
              "or ensure your notebook will continue to use TensorFlow 1.x via the <code>%tensorflow_version 1.x</code> magic:\n",
              "<a href=\"https://colab.research.google.com/notebooks/tensorflow_version.ipynb\" target=\"_blank\">more info</a>.</p>\n"
            ],
            "text/plain": [
              "<IPython.core.display.HTML object>"
            ]
          },
          "metadata": {
            "tags": []
          }
        }
      ]
    },
    {
      "cell_type": "code",
      "metadata": {
        "id": "lR_tWe9huhUV",
        "colab_type": "code",
        "colab": {}
      },
      "source": [
        "batch_size = 64\n",
        "num_classes = 10\n",
        "epochs = 100"
      ],
      "execution_count": 0,
      "outputs": []
    },
    {
      "cell_type": "code",
      "metadata": {
        "id": "cmrU1Bl2uwP1",
        "colab_type": "code",
        "colab": {}
      },
      "source": [
        "(x_train, y_train), (x_test, y_test) = mnist.load_data()\n",
        "#El generador de imagenes necesita matrices 4D\n",
        "x_train = x_train.reshape(60000,28,28,1)\n",
        "x_test = x_test.reshape(10000,28,28,1)\n",
        "x_train = x_train.astype('float32')\n",
        "x_test = x_test.astype('float32')\n",
        "\n",
        "# Normalizamos los datos en el rango 0..1\n",
        "x_train /= 255\n",
        "x_test /= 255"
      ],
      "execution_count": 0,
      "outputs": []
    },
    {
      "cell_type": "code",
      "metadata": {
        "id": "FQLhmGK8vOXn",
        "colab_type": "code",
        "colab": {}
      },
      "source": [
        "#transformamos las etiquetas en vecotres one hot 0 excepto un 1 en la posicion de la clase\n",
        "y_train = keras.utils.to_categorical(y_train, num_classes)\n",
        "y_test = keras.utils.to_categorical(y_test, num_classes)"
      ],
      "execution_count": 0,
      "outputs": []
    },
    {
      "cell_type": "code",
      "metadata": {
        "id": "dOvwpooIvacV",
        "colab_type": "code",
        "colab": {}
      },
      "source": [
        "#generador de imagenes\n",
        "datagen = ImageDataGenerator(\n",
        "    width_shift_range=0.1,\n",
        "    height_shift_range=0.1,\n",
        "    horizontal_flip=False,\n",
        "    zoom_range=0.2,\n",
        "    rotation_range = 5)\n",
        "\n"
      ],
      "execution_count": 0,
      "outputs": []
    },
    {
      "cell_type": "code",
      "metadata": {
        "id": "ro8HRLsMv0Uf",
        "colab_type": "code",
        "outputId": "7b6fae98-ea51-4c45-c48e-89fd481f8998",
        "colab": {
          "base_uri": "https://localhost:8080/",
          "height": 717
        }
      },
      "source": [
        "#nos entra una imagen y la reescalamos a un vector 1 X 784\n",
        "model = Sequential()\n",
        "model.add(Reshape(target_shape=(784,), input_shape=(28, 28, 1)))\n",
        "model.add(GN(0.2))\n",
        "\n",
        "model.add(Dense(1024))\n",
        "model.add(BN())\n",
        "model.add(GN(0.2))\n",
        "model.add(Activation('relu'))\n",
        "\n",
        "model.add(Dense(1024))\n",
        "model.add(BN())\n",
        "model.add(GN(0.1))\n",
        "model.add(Activation('relu'))\n",
        "\n",
        "# model.add(Dense(1024))\n",
        "# model.add(BN())\n",
        "# model.add(GN(0.3))\n",
        "# model.add(Activation('relu'))\n",
        "\n",
        "model.add(Dense(num_classes, activation='softmax'))\n",
        "\n",
        "model.summary()\n"
      ],
      "execution_count": 0,
      "outputs": [
        {
          "output_type": "stream",
          "text": [
            "WARNING:tensorflow:From /usr/local/lib/python3.6/dist-packages/keras/backend/tensorflow_backend.py:66: The name tf.get_default_graph is deprecated. Please use tf.compat.v1.get_default_graph instead.\n",
            "\n",
            "WARNING:tensorflow:From /usr/local/lib/python3.6/dist-packages/keras/backend/tensorflow_backend.py:541: The name tf.placeholder is deprecated. Please use tf.compat.v1.placeholder instead.\n",
            "\n",
            "WARNING:tensorflow:From /usr/local/lib/python3.6/dist-packages/keras/backend/tensorflow_backend.py:148: The name tf.placeholder_with_default is deprecated. Please use tf.compat.v1.placeholder_with_default instead.\n",
            "\n",
            "WARNING:tensorflow:From /usr/local/lib/python3.6/dist-packages/keras/backend/tensorflow_backend.py:4409: The name tf.random_normal is deprecated. Please use tf.random.normal instead.\n",
            "\n",
            "WARNING:tensorflow:From /usr/local/lib/python3.6/dist-packages/keras/backend/tensorflow_backend.py:4432: The name tf.random_uniform is deprecated. Please use tf.random.uniform instead.\n",
            "\n",
            "Model: \"sequential_1\"\n",
            "_________________________________________________________________\n",
            "Layer (type)                 Output Shape              Param #   \n",
            "=================================================================\n",
            "reshape_1 (Reshape)          (None, 784)               0         \n",
            "_________________________________________________________________\n",
            "gaussian_noise_1 (GaussianNo (None, 784)               0         \n",
            "_________________________________________________________________\n",
            "dense_1 (Dense)              (None, 1024)              803840    \n",
            "_________________________________________________________________\n",
            "batch_normalization_1 (Batch (None, 1024)              4096      \n",
            "_________________________________________________________________\n",
            "gaussian_noise_2 (GaussianNo (None, 1024)              0         \n",
            "_________________________________________________________________\n",
            "activation_1 (Activation)    (None, 1024)              0         \n",
            "_________________________________________________________________\n",
            "dense_2 (Dense)              (None, 1024)              1049600   \n",
            "_________________________________________________________________\n",
            "batch_normalization_2 (Batch (None, 1024)              4096      \n",
            "_________________________________________________________________\n",
            "gaussian_noise_3 (GaussianNo (None, 1024)              0         \n",
            "_________________________________________________________________\n",
            "activation_2 (Activation)    (None, 1024)              0         \n",
            "_________________________________________________________________\n",
            "dense_3 (Dense)              (None, 10)                10250     \n",
            "=================================================================\n",
            "Total params: 1,871,882\n",
            "Trainable params: 1,867,786\n",
            "Non-trainable params: 4,096\n",
            "_________________________________________________________________\n"
          ],
          "name": "stdout"
        }
      ]
    },
    {
      "cell_type": "code",
      "metadata": {
        "id": "RRtwQDn8v-X-",
        "colab_type": "code",
        "outputId": "0040857c-1432-4fb4-eabb-fbf428b4b14e",
        "colab": {
          "base_uri": "https://localhost:8080/",
          "height": 105
        }
      },
      "source": [
        "sgd=SGD(lr=0.1, decay=0.0, momentum=0.0)\n",
        "#Learning rate anealing\n",
        "def scheduler(epoch):\n",
        "    if epoch < 25:\n",
        "        return .1\n",
        "    elif epoch < 50:\n",
        "        return 0.01\n",
        "    else:\n",
        "        return 0.001\n",
        "\n",
        "set_lr = LRS(scheduler)\n",
        "\n",
        "\n",
        "model.compile(loss='categorical_crossentropy',\n",
        "              optimizer=sgd,\n",
        "              metrics=['accuracy'])\n"
      ],
      "execution_count": 0,
      "outputs": [
        {
          "output_type": "stream",
          "text": [
            "WARNING:tensorflow:From /usr/local/lib/python3.6/dist-packages/keras/optimizers.py:793: The name tf.train.Optimizer is deprecated. Please use tf.compat.v1.train.Optimizer instead.\n",
            "\n",
            "WARNING:tensorflow:From /usr/local/lib/python3.6/dist-packages/keras/backend/tensorflow_backend.py:3576: The name tf.log is deprecated. Please use tf.math.log instead.\n",
            "\n"
          ],
          "name": "stdout"
        }
      ]
    },
    {
      "cell_type": "code",
      "metadata": {
        "id": "TAzdtP5wwMlb",
        "colab_type": "code",
        "outputId": "c75b2470-9406-4332-ed38-5edee1fd203d",
        "colab": {
          "base_uri": "https://localhost:8080/",
          "height": 816
        }
      },
      "source": [
        "history=model.fit_generator(datagen.flow(x_train, y_train,batch_size=batch_size),\n",
        "                            steps_per_epoch=len(x_train) / batch_size, \n",
        "                            epochs=epochs,\n",
        "                            validation_data=(x_test, y_test),\n",
        "                            callbacks=[set_lr],\n",
        "                            verbose=1)"
      ],
      "execution_count": 0,
      "outputs": [
        {
          "output_type": "stream",
          "text": [
            "938/937 [==============================] - 26s 28ms/step - loss: 0.0733 - acc: 0.9767 - val_loss: 0.0205 - val_acc: 0.9927\n",
            "Epoch 78/100\n",
            "938/937 [==============================] - 26s 27ms/step - loss: 0.0744 - acc: 0.9763 - val_loss: 0.0206 - val_acc: 0.9924\n",
            "Epoch 79/100\n",
            "938/937 [==============================] - 26s 27ms/step - loss: 0.0742 - acc: 0.9768 - val_loss: 0.0208 - val_acc: 0.9923\n",
            "Epoch 80/100\n",
            "938/937 [==============================] - 26s 28ms/step - loss: 0.0759 - acc: 0.9762 - val_loss: 0.0207 - val_acc: 0.9920\n",
            "Epoch 81/100\n",
            "938/937 [==============================] - 26s 27ms/step - loss: 0.0736 - acc: 0.9765 - val_loss: 0.0206 - val_acc: 0.9926\n",
            "Epoch 82/100\n",
            "938/937 [==============================] - 26s 27ms/step - loss: 0.0735 - acc: 0.9767 - val_loss: 0.0207 - val_acc: 0.9920\n",
            "Epoch 83/100\n",
            "938/937 [==============================] - 26s 28ms/step - loss: 0.0743 - acc: 0.9763 - val_loss: 0.0206 - val_acc: 0.9921\n",
            "Epoch 84/100\n",
            "938/937 [==============================] - 26s 27ms/step - loss: 0.0741 - acc: 0.9767 - val_loss: 0.0207 - val_acc: 0.9920\n",
            "Epoch 85/100\n",
            "938/937 [==============================] - 25s 27ms/step - loss: 0.0728 - acc: 0.9767 - val_loss: 0.0207 - val_acc: 0.9923\n",
            "Epoch 86/100\n",
            "938/937 [==============================] - 25s 27ms/step - loss: 0.0741 - acc: 0.9763 - val_loss: 0.0205 - val_acc: 0.9925\n",
            "Epoch 87/100\n",
            "938/937 [==============================] - 25s 27ms/step - loss: 0.0739 - acc: 0.9771 - val_loss: 0.0204 - val_acc: 0.9922\n",
            "Epoch 88/100\n",
            "938/937 [==============================] - 26s 27ms/step - loss: 0.0723 - acc: 0.9766 - val_loss: 0.0205 - val_acc: 0.9921\n",
            "Epoch 89/100\n",
            "938/937 [==============================] - 25s 27ms/step - loss: 0.0732 - acc: 0.9771 - val_loss: 0.0204 - val_acc: 0.9923\n",
            "Epoch 90/100\n",
            "938/937 [==============================] - 25s 27ms/step - loss: 0.0753 - acc: 0.9762 - val_loss: 0.0204 - val_acc: 0.9924\n",
            "Epoch 91/100\n",
            "938/937 [==============================] - 25s 27ms/step - loss: 0.0719 - acc: 0.9772 - val_loss: 0.0204 - val_acc: 0.9926\n",
            "Epoch 92/100\n",
            "938/937 [==============================] - 25s 27ms/step - loss: 0.0731 - acc: 0.9763 - val_loss: 0.0205 - val_acc: 0.9923\n",
            "Epoch 93/100\n",
            "938/937 [==============================] - 25s 27ms/step - loss: 0.0756 - acc: 0.9765 - val_loss: 0.0206 - val_acc: 0.9922\n",
            "Epoch 94/100\n",
            "938/937 [==============================] - 25s 26ms/step - loss: 0.0723 - acc: 0.9772 - val_loss: 0.0205 - val_acc: 0.9925\n",
            "Epoch 95/100\n",
            "938/937 [==============================] - 25s 27ms/step - loss: 0.0730 - acc: 0.9764 - val_loss: 0.0204 - val_acc: 0.9925\n",
            "Epoch 96/100\n",
            "938/937 [==============================] - 25s 26ms/step - loss: 0.0710 - acc: 0.9773 - val_loss: 0.0203 - val_acc: 0.9921\n",
            "Epoch 97/100\n",
            "938/937 [==============================] - 25s 27ms/step - loss: 0.0737 - acc: 0.9771 - val_loss: 0.0204 - val_acc: 0.9925\n",
            "Epoch 98/100\n",
            "938/937 [==============================] - 24s 26ms/step - loss: 0.0726 - acc: 0.9775 - val_loss: 0.0204 - val_acc: 0.9923\n",
            "Epoch 99/100\n",
            "938/937 [==============================] - 25s 27ms/step - loss: 0.0729 - acc: 0.9777 - val_loss: 0.0205 - val_acc: 0.9922\n",
            "Epoch 100/100\n",
            "938/937 [==============================] - 25s 27ms/step - loss: 0.0723 - acc: 0.9778 - val_loss: 0.0206 - val_acc: 0.9926\n"
          ],
          "name": "stdout"
        }
      ]
    },
    {
      "cell_type": "code",
      "metadata": {
        "id": "xngiYNUnFiEs",
        "colab_type": "code",
        "outputId": "1e7e365c-1f78-4af7-cd16-dc3972bda224",
        "colab": {
          "base_uri": "https://localhost:8080/",
          "height": 573
        }
      },
      "source": [
        "import matplotlib.pyplot as plt\n",
        "\n",
        "# Evolución del accuracy de train y test\n",
        "plt.plot(history.history['acc'])\n",
        "plt.plot(history.history['val_acc'])\n",
        "plt.title('Model accuracy')\n",
        "plt.ylabel('Accuracy')\n",
        "plt.xlabel('Epoch')\n",
        "plt.legend(['Train', 'Test'], loc='upper left')\n",
        "plt.show()\n",
        "\n",
        "#Evolución del la funcion de perdida en train y test\n",
        "plt.plot(history.history['loss'])\n",
        "plt.plot(history.history['val_loss'])\n",
        "plt.title('Model loss')\n",
        "plt.ylabel('Loss')\n",
        "plt.xlabel('Epoch')\n",
        "plt.legend(['Train', 'Test'], loc='upper left')\n",
        "plt.show()"
      ],
      "execution_count": 0,
      "outputs": [
        {
          "output_type": "display_data",
          "data": {
            "image/png": "[encoded data removed]",
            "text/plain": [
              "<Figure size 432x288 with 1 Axes>"
            ]
          },
          "metadata": {
            "tags": []
          }
        },
        {
          "output_type": "display_data",
          "data": {
            "image/png": "[encoded data removed]",
            "text/plain": [
              "<Figure size 432x288 with 1 Axes>"
            ]
          },
          "metadata": {
            "tags": []
          }
        }
      ]
    }
  ]
}