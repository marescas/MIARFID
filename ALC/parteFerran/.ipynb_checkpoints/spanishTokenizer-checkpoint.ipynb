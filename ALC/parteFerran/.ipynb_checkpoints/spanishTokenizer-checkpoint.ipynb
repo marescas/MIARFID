{
 "cells": [
  {
   "cell_type": "code",
   "execution_count": 1,
   "metadata": {},
   "outputs": [],
   "source": [
    "import re"
   ]
  },
  {
   "cell_type": "code",
   "execution_count": 2,
   "metadata": {},
   "outputs": [],
   "source": [
    "date =\"(\\d{2}(/|-)\\d{2}((/|-)\\d{4})?)\"\n",
    "datePattern=re.compile (date,re.I|re.U)"
   ]
  },
  {
   "cell_type": "code",
   "execution_count": 6,
   "metadata": {},
   "outputs": [],
   "source": [
    "s = re.sub('([.,¡!?()] ... ; :)', r' \\1 ', \"Él, Antonio, no vendrá mañana: lo hará pasado mañana.  ¿¿¿¿Cuándo???? No te lo he dicho... ¡?Vale! no te he oido.\")\n",
    "s = re.sub('\\s{2,}', ' ', \"Él, Antonio, no vendrá mañana: lo hará pasado mañana.  ¿¿¿¿Cuándo???? No te lo he dicho... ¡?Vale! no te he oido.\")"
   ]
  },
  {
   "cell_type": "code",
   "execution_count": 5,
   "metadata": {},
   "outputs": [
    {
     "data": {
      "text/plain": [
       "<re.Match object; span=(0, 4), match='Él, '>"
      ]
     },
     "execution_count": 5,
     "metadata": {},
     "output_type": "execute_result"
    }
   ],
   "source": []
  },
  {
   "cell_type": "code",
   "execution_count": null,
   "metadata": {},
   "outputs": [],
   "source": []
  }
 ],
 "metadata": {
  "kernelspec": {
   "display_name": "Python 3",
   "language": "python",
   "name": "python3"
  },
  "language_info": {
   "codemirror_mode": {
    "name": "ipython",
    "version": 3
   },
   "file_extension": ".py",
   "mimetype": "text/x-python",
   "name": "python",
   "nbconvert_exporter": "python",
   "pygments_lexer": "ipython3",
   "version": "3.7.3"
  }
 },
 "nbformat": 4,
 "nbformat_minor": 2
}
